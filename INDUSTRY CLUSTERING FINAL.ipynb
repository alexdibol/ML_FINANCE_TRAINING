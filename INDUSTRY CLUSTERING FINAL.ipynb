{
 "cells": [
  {
   "cell_type": "markdown",
   "metadata": {},
   "source": [
    "<h1><center>INDUSTRY CLUSTERING</center></h1>\n",
    "\n",
    "<h2><center>CLUSTERING AND SEPARATING THE SP500 SAMPLE</center></h2>"
   ]
  },
  {
   "cell_type": "markdown",
   "metadata": {},
   "source": [
    "## 1. SOURCES"
   ]
  },
  {
   "cell_type": "markdown",
   "metadata": {},
   "source": [
    "#### A CURATED LIST OF ML FOR FINANCE APPLICATIONS\n",
    "\n",
    "https://github.com/firmai/financial-machine-learning\n",
    "\n",
    "#### SOURCES FOR THIS TUTORIAL\n",
    "\n",
    "https://github.com/SeanMcOwen/FinanceAndPython.com-ClusteringIndustries"
   ]
  },
  {
   "cell_type": "markdown",
   "metadata": {},
   "source": [
    "## 2. DATA DOWNLOADING "
   ]
  },
  {
   "cell_type": "code",
   "execution_count": 1,
   "metadata": {},
   "outputs": [],
   "source": [
    "from IPython.display import display_html\n",
    "def restartkernel() :\n",
    "    display_html(\"<script>Jupyter.notebook.kernel.restart()</script>\",raw=True)"
   ]
  },
  {
   "cell_type": "code",
   "execution_count": null,
   "metadata": {},
   "outputs": [
    {
     "data": {
      "text/html": [
       "<script>Jupyter.notebook.kernel.restart()</script>"
      ]
     },
     "metadata": {},
     "output_type": "display_data"
    }
   ],
   "source": [
    "restartkernel()"
   ]
  },
  {
   "cell_type": "markdown",
   "metadata": {},
   "source": [
    "### INDEPENDENT VARIABLES"
   ]
  },
  {
   "cell_type": "code",
   "execution_count": 1,
   "metadata": {},
   "outputs": [],
   "source": [
    "import datetime\n",
    "import pandas as pd\n",
    "import pandas_datareader.data as web\n",
    "import csv\n",
    "from lxml import html\n",
    "import requests\n",
    "import datetime\n",
    "import matplotlib.pyplot as plt\n",
    "import numpy as np\n",
    "\n",
    "startDate = datetime.datetime(2015, 1, 1)\n",
    "endDate = datetime.datetime(2019, 5, 1)"
   ]
  },
  {
   "cell_type": "code",
   "execution_count": 2,
   "metadata": {},
   "outputs": [],
   "source": [
    "m_index=web.DataReader(\"SPY\", 'yahoo', startDate, endDate)\n",
    "oil = web.DataReader(\"OIL\", \"yahoo\", startDate, endDate)\n",
    "gold = web.DataReader(\"GLD\", \"yahoo\", startDate, endDate)\n",
    "naturalGas = web.DataReader(\"GAZ\", \"yahoo\", startDate, endDate)\n",
    "\n",
    "m_index = m_index[\"Close\"].pct_change()\n",
    "oil = oil[\"Close\"].pct_change()\n",
    "gold = gold[\"Close\"].pct_change()\n",
    "naturalGas = naturalGas[\"Close\"].pct_change()"
   ]
  },
  {
   "cell_type": "code",
   "execution_count": 3,
   "metadata": {},
   "outputs": [],
   "source": [
    "variables = pd.concat([m_index, oil,gold,naturalGas], axis=1)\n",
    "variables.columns = [\"M_Index\",\"Oil\",\"Gold\",\"NaturalGas\"]\n"
   ]
  },
  {
   "cell_type": "code",
   "execution_count": 4,
   "metadata": {},
   "outputs": [],
   "source": [
    "variables.to_csv(\"Variables.csv\", encoding=\"UTF-8\")"
   ]
  },
  {
   "cell_type": "markdown",
   "metadata": {},
   "source": [
    "### DATASET"
   ]
  },
  {
   "cell_type": "code",
   "execution_count": 13,
   "metadata": {},
   "outputs": [],
   "source": [
    "stocksArray=['MMM', 'ABT', 'ABBV', 'ACN', 'ATVI', 'ADBE', 'AMD', 'AAP', 'AES',\n",
    "'AMG', 'AFL', 'A', 'APD', 'AKAM', 'ALK', 'ALB', 'ARE', 'ALXN', 'ALGN', 'ALLE', \n",
    "'AGN', 'ADS', 'LNT', 'ALL', 'GOOGL', 'MO', 'AMZN', 'AEE', 'AAL', 'AEP',\n",
    "'AXP', 'AIG', 'AMT', 'AWK', 'AMP', 'ABC', 'AME', 'AMGN', 'APH', 'ADI', 'ANSS', \n",
    "'ANTM', 'AON', 'APA', 'AIV', 'AAPL', 'AMAT', 'ADM', 'ARNC', 'AJG', 'AIZ', 'T', 'ADSK',\n",
    "'ADP', 'AN', 'AZO', 'AVB', 'AVY', 'BLL', 'BAC', 'BK', 'BAX', 'BDX', 'BBBY', 'BBY',\n",
    "'BIIB', 'BLK', 'HRB', 'BA', 'BWA', 'BXP', 'BSX', 'BMY',\n",
    "'CHRW', 'COG', 'CPB', 'COF', 'CAH', 'CBOE', 'KMX', 'CCL', 'CAT', 'CBS', 'CELG',\n",
    "'CNC', 'CNP', 'CTL', 'CERN', 'CF', 'SCHW', 'CHTR', 'CHK', 'CVX', 'CB', 'CHD', 'CI', 'XEC',\n",
    "'CINF', 'CTAS', 'CSCO', 'C', 'CFG', 'CTXS', 'CLX', 'CME', 'CMS', 'KO', 'CTSH', 'CL', \n",
    "'CMCSA', 'CMA', 'CAG', 'CXO', 'COP', 'ED', 'STZ', 'COO', 'GLW', 'COST', 'COTY', 'CCI',\n",
    "'CSX', 'CMI', 'CVS', 'DHI', 'DHR', 'DRI', 'DVA', 'DE', 'DLPH', 'DAL', 'XRAY', 'DVN', 'DLR', 'DFS',\n",
    "'DISCA', 'DISCK', 'DISH', 'DG', 'DLTR', 'D', 'DOV', 'DTE', 'DD', 'DUK', 'DXC', 'ETFC',\n",
    "'EMN', 'ETN', 'EBAY', 'ECL', 'EIX', 'EW', 'EA', 'EMR', 'ETR', 'EVHC', 'EOG', 'EQT', 'EFX', 'EQIX',\n",
    "'EQR', 'ESS', 'EL', 'ES', 'RE', 'EXC', 'EXPE', 'EXPD', 'EXR', 'XOM', 'FFIV', 'FB', 'FAST',\n",
    "'FRT', 'FDX', 'FIS', 'FITB', 'FE', 'FISV', 'FLIR', 'FLS', 'FLR', 'FMC', 'FL', 'F', 'FTV', 'FBHS', \n",
    "'BEN', 'FCX', 'GPS', 'GRMN', 'IT', 'GD', 'GE', 'GIS', 'GM', 'GPC', 'GILD', 'GPN', 'GS', 'GT',\n",
    "'GWW', 'HAL', 'HBI', 'HOG', 'HIG', 'HAS', 'HCA', 'HP', 'HSIC', 'HSY', 'HES', 'HPE',\n",
    "'HLT', 'HOLX', 'HD', 'HON', 'HRL', 'HST', 'HPQ', 'HUM', 'HBAN', 'IDXX', 'INFO', 'ITW', 'ILMN', 'IR', \n",
    "'INTC', 'ICE', 'IBM', 'INCY', 'IP', 'IPG', 'IFF', 'INTU', 'ISRG', 'IVZ', 'IRM', 'JEC', 'JBHT', 'SJM',\n",
    "'JNJ', 'JCI', 'JPM', 'JNPR', 'KSU', 'K', 'KEY', 'KMB', 'KIM', 'KMI', 'KLAC', 'KSS', 'KHC', 'KR', 'LB',\n",
    "'LH', 'LRCX', 'LEG', 'LEN', 'LLY', 'LNC', 'LKQ', 'LMT', 'L', 'LOW', 'LYB', 'MTB',\n",
    "'MAC', 'M', 'MNK', 'MRO', 'MPC', 'MAR', 'MMC', 'MLM', 'MAS', 'MA', 'MAT', 'MKC', 'MCD', 'MCK',\n",
    "'MDT', 'MRK', 'MET', 'MTD', 'MCHP', 'MU', 'MSFT', 'MAA', 'MHK', 'TAP', 'MDLZ', \n",
    "'MNST', 'MCO', 'MS', 'MOS', 'MSI', 'MUR', 'MYL', 'NDAQ', 'NOV', 'NAVI', 'NTAP', 'NFLX', 'NWL',\n",
    "'NEM', 'NWSA', 'NWS', 'NEE', 'NLSN', 'NKE', 'NI', 'NBL', 'JWN', 'NSC', 'NTRS', 'NOC', 'NRG',\n",
    "'NUE', 'NVDA', 'ORLY', 'OXY', 'OMC', 'OKE', 'ORCL', 'PCAR', 'PH', 'PDCO', 'PAYX', 'PYPL', 'PNR',\n",
    "'PBCT', 'PEP', 'PKI', 'PRGO', 'PFE', 'PCG', 'PM', 'PSX', 'PNW', 'PXD', 'PNC', 'RL', 'PPG',\n",
    "'PPL', 'PFG', 'PG', 'PGR', 'PLD', 'PRU', 'PEG', 'PSA', 'PHM', 'PVH', 'QRVO', 'PWR', 'QCOM', \n",
    "'DGX', 'RRC', 'RJF', 'RTN', 'O', 'REG', 'REGN', 'RF', 'RSG', 'RHI', 'ROK',\n",
    "'ROST', 'RCL', 'CRM', 'STX', 'SEE', 'SRE', 'SHW', 'SIG', 'SPG', 'SWKS', 'SLG',\n",
    "'SNA', 'SO', 'LUV', 'SPGI', 'SWK', 'SBUX', 'STT', 'SRCL', 'SYK', 'STI', 'SYF', 'SNPS',\n",
    "'SYY', 'TROW', 'TGT', 'TEL', 'FTI', 'TXN', 'TXT', 'TMO', 'TIF', 'TJX', 'TSCO',\n",
    "'TDG', 'RIG', 'TRV', 'TRIP', 'TSN', 'UDR', 'ULTA', 'USB', 'UA', 'UAA', 'UNP', 'UAL',\n",
    "'UNH', 'UPS', 'URI', 'UTX', 'UHS', 'UNM', 'VFC', 'VLO', 'VAR', 'VTR', 'VRSN', 'VRSK', 'VZ', 'VRTX',\n",
    "'VIAB', 'V', 'VNO', 'VMC', 'WMT', 'WBA', 'DIS', 'WM', 'WAT', 'WEC', 'WFC', 'WDC', 'WU', 'WRK',\n",
    "'WY', 'WHR', 'WMB', 'WLTW', 'WYNN', 'XEL', 'XRX', 'XLNX', 'XYL',\n",
    "'YUM', 'ZBH', 'ZION', 'ZTS']"
   ]
  },
  {
   "cell_type": "code",
   "execution_count": 14,
   "metadata": {},
   "outputs": [],
   "source": [
    "assetsArray=stocksArray\n",
    "assetsArray.append('SPY')\n",
    "assetsArray.append('OIL')\n",
    "assetsArray.append('GLD')\n",
    "assetsArray.append('GAZ')\n"
   ]
  },
  {
   "cell_type": "markdown",
   "metadata": {},
   "source": [
    "### ASSET LIST DEPURATION"
   ]
  },
  {
   "cell_type": "code",
   "execution_count": 15,
   "metadata": {},
   "outputs": [
    {
     "name": "stderr",
     "output_type": "stream",
     "text": [
      "D:\\Program Files\\Anaconda\\lib\\site-packages\\ipykernel_launcher.py:13: FutureWarning: Sorting because non-concatenation axis is not aligned. A future version\n",
      "of pandas will change to not sort by default.\n",
      "\n",
      "To accept the future behavior, pass 'sort=False'.\n",
      "\n",
      "To retain the current behavior and silence the warning, pass 'sort=True'.\n",
      "\n",
      "  del sys.path[0]\n"
     ]
    }
   ],
   "source": [
    "data = pd.read_csv(\"SP500.csv\", header=1) \n",
    "# Preview the first 5 lines of the loaded data \n",
    "c=data[\"Symbol\"].to_list()\n",
    "\n",
    "n_data=data.set_index('Symbol').T\n",
    "\n",
    "n_data[\"MMM\"]\n",
    "catalog=pd.DataFrame()\n",
    "\n",
    "for x in stocksArray:\n",
    "    if x in c:\n",
    "        col=n_data[x]\n",
    "        catalog=pd.concat([catalog,col], axis=1)\n",
    "    \n",
    "catalog_list=catalog.columns.to_list()"
   ]
  },
  {
   "cell_type": "markdown",
   "metadata": {},
   "source": [
    "## 3. ORGANIZING THE DATA"
   ]
  },
  {
   "cell_type": "code",
   "execution_count": 8,
   "metadata": {},
   "outputs": [],
   "source": [
    "df = pd.DataFrame()\n",
    "startDate = datetime.datetime(2015, 1, 1)\n",
    "endDate = datetime.datetime(2019, 5, 1)\n",
    "for x in catalog_list:\n",
    "    stock = web.DataReader(x, 'yahoo', startDate, endDate)\n",
    "    stock = stock[\"Close\"].pct_change()\n",
    "    stock.name = x\n",
    "    stock.to_frame()\n",
    "    df = pd.concat([df,stock],axis=1)\n"
   ]
  },
  {
   "cell_type": "code",
   "execution_count": 9,
   "metadata": {},
   "outputs": [],
   "source": [
    "counter=np.arange(430)\n",
    "cat=catalog.T\n",
    "n_cat=cat.reset_index()\n",
    "n_cat\n",
    "n_cat.rename(columns={'index': 'Symbol'})\n",
    "n_cat.fillna(0, inplace=True)"
   ]
  },
  {
   "cell_type": "code",
   "execution_count": 10,
   "metadata": {},
   "outputs": [],
   "source": [
    "df.to_csv(\"StockData.csv\", encoding=\"UTF-8\")\n",
    "catalog.fillna(0)\n",
    "catalog.to_csv(\"Catalog.csv\", encoding=\"UTF-8\")\n",
    "n_cat.to_csv('n_SP500.csv', encoding=\"UTF-8\")"
   ]
  },
  {
   "cell_type": "markdown",
   "metadata": {},
   "source": [
    "#### LOCATION OF OUR INFORMATION"
   ]
  },
  {
   "cell_type": "markdown",
   "metadata": {},
   "source": [
    "> - The catalog of information is at n_SP500.csv\n",
    "> - The data series for all stocks is at StockData.csv\n",
    "> - The transposed catalog of information is at Catalog.csv\n",
    "> - The exogenous variables are at Variables.csv"
   ]
  },
  {
   "cell_type": "markdown",
   "metadata": {},
   "source": [
    "<h2> <center>LABELING PROCESS STARTS HERE </center></h2>"
   ]
  },
  {
   "cell_type": "markdown",
   "metadata": {},
   "source": [
    "## 4. REGRESSION ANALYSIS :STATSMODELS"
   ]
  },
  {
   "cell_type": "code",
   "execution_count": 18,
   "metadata": {},
   "outputs": [],
   "source": [
    "from IPython.display import display_html\n",
    "def restartkernel() :\n",
    "    display_html(\"<script>Jupyter.notebook.kernel.restart()</script>\",raw=True)"
   ]
  },
  {
   "cell_type": "code",
   "execution_count": null,
   "metadata": {},
   "outputs": [
    {
     "data": {
      "text/html": [
       "<script>Jupyter.notebook.kernel.restart()</script>"
      ]
     },
     "metadata": {},
     "output_type": "display_data"
    }
   ],
   "source": [
    "restartkernel()"
   ]
  },
  {
   "cell_type": "code",
   "execution_count": 1,
   "metadata": {},
   "outputs": [],
   "source": [
    "import datetime\n",
    "import pandas as pd\n",
    "import pandas_datareader.data as web\n",
    "import csv\n",
    "from lxml import html\n",
    "import requests\n",
    "import datetime\n",
    "import matplotlib.pyplot as plt\n",
    "import numpy as np\n",
    "import statsmodels.formula.api as sm"
   ]
  },
  {
   "cell_type": "code",
   "execution_count": 2,
   "metadata": {},
   "outputs": [],
   "source": [
    "df = pd.read_csv(\"StockData.csv\", header=0) \n",
    "df_1 = pd.read_csv(\"Variables.csv\", header=0)\n",
    "complete=pd.concat([df, df_1], axis=1)\n",
    "complete.dropna(inplace=True)\n",
    "del complete[\"Date\"]"
   ]
  },
  {
   "cell_type": "markdown",
   "metadata": {},
   "source": [
    "#### A GENERAL REGRESSION FUNCTION"
   ]
  },
  {
   "cell_type": "code",
   "execution_count": 3,
   "metadata": {},
   "outputs": [],
   "source": [
    "def regress(stock):\n",
    "    result = sm.ols(formula=stock+\" ~ M_Index + Oil + Gold + NaturalGas\", data=complete).fit()\n",
    "    print(result.summary())"
   ]
  },
  {
   "cell_type": "code",
   "execution_count": 4,
   "metadata": {},
   "outputs": [
    {
     "name": "stdout",
     "output_type": "stream",
     "text": [
      "                            OLS Regression Results                            \n",
      "==============================================================================\n",
      "Dep. Variable:                      F   R-squared:                       0.222\n",
      "Model:                            OLS   Adj. R-squared:                  0.218\n",
      "Method:                 Least Squares   F-statistic:                     50.46\n",
      "Date:                Mon, 24 Feb 2020   Prob (F-statistic):           2.25e-37\n",
      "Time:                        18:53:38   Log-Likelihood:                 2035.5\n",
      "No. Observations:                 711   AIC:                            -4061.\n",
      "Df Residuals:                     706   BIC:                            -4038.\n",
      "Df Model:                           4                                         \n",
      "Covariance Type:            nonrobust                                         \n",
      "==============================================================================\n",
      "                 coef    std err          t      P>|t|      [0.025      0.975]\n",
      "------------------------------------------------------------------------------\n",
      "Intercept     -0.0006      0.001     -1.162      0.246      -0.002       0.000\n",
      "M_Index        0.9481      0.068     13.899      0.000       0.814       1.082\n",
      "Oil            0.0027      0.014      0.187      0.852      -0.025       0.030\n",
      "Gold          -0.0028      0.080     -0.036      0.972      -0.160       0.155\n",
      "NaturalGas  -3.21e-05      0.000     -0.280      0.779      -0.000       0.000\n",
      "==============================================================================\n",
      "Omnibus:                      137.469   Durbin-Watson:                   2.069\n",
      "Prob(Omnibus):                  0.000   Jarque-Bera (JB):             2985.756\n",
      "Skew:                           0.093   Prob(JB):                         0.00\n",
      "Kurtosis:                      13.037   Cond. No.                         707.\n",
      "==============================================================================\n",
      "\n",
      "Warnings:\n",
      "[1] Standard Errors assume that the covariance matrix of the errors is correctly specified.\n"
     ]
    }
   ],
   "source": [
    "regress(\"F\")"
   ]
  },
  {
   "cell_type": "markdown",
   "metadata": {},
   "source": [
    "#### A FUNCTION THAT ONLY RECORDS THE VALUE OF SIGNIFICANT PARAMETERS"
   ]
  },
  {
   "cell_type": "code",
   "execution_count": 5,
   "metadata": {},
   "outputs": [],
   "source": [
    "def regress(stock):\n",
    "    result = sm.ols(formula=stock+\" ~ M_Index + Oil + Gold + NaturalGas\", data=complete).fit()\n",
    "    return pd.DataFrame(result.params[result.pvalues<.05],columns=[stock])"
   ]
  },
  {
   "cell_type": "markdown",
   "metadata": {},
   "source": [
    "#### CREATE A NEW FRAME WITH ONLY THE ESTIMATED PARAMENTER WHEN STATISTICALLY SIGNIFICANT"
   ]
  },
  {
   "cell_type": "code",
   "execution_count": 6,
   "metadata": {},
   "outputs": [
    {
     "name": "stderr",
     "output_type": "stream",
     "text": [
      "D:\\Program Files\\Anaconda\\lib\\site-packages\\ipykernel_launcher.py:4: FutureWarning: Sorting because non-concatenation axis is not aligned. A future version\n",
      "of pandas will change to not sort by default.\n",
      "\n",
      "To accept the future behavior, pass 'sort=False'.\n",
      "\n",
      "To retain the current behavior and silence the warning, pass 'sort=True'.\n",
      "\n",
      "  after removing the cwd from sys.path.\n"
     ]
    },
    {
     "data": {
      "text/html": [
       "<div>\n",
       "<style scoped>\n",
       "    .dataframe tbody tr th:only-of-type {\n",
       "        vertical-align: middle;\n",
       "    }\n",
       "\n",
       "    .dataframe tbody tr th {\n",
       "        vertical-align: top;\n",
       "    }\n",
       "\n",
       "    .dataframe thead th {\n",
       "        text-align: right;\n",
       "    }\n",
       "</style>\n",
       "<table border=\"1\" class=\"dataframe\">\n",
       "  <thead>\n",
       "    <tr style=\"text-align: right;\">\n",
       "      <th></th>\n",
       "      <th>MMM</th>\n",
       "      <th>ABT</th>\n",
       "      <th>ABBV</th>\n",
       "      <th>ACN</th>\n",
       "      <th>ATVI</th>\n",
       "      <th>ADBE</th>\n",
       "      <th>AMD</th>\n",
       "      <th>AAP</th>\n",
       "      <th>AES</th>\n",
       "      <th>AFL</th>\n",
       "      <th>...</th>\n",
       "      <th>WLTW</th>\n",
       "      <th>WYNN</th>\n",
       "      <th>XEL</th>\n",
       "      <th>XRX</th>\n",
       "      <th>XLNX</th>\n",
       "      <th>XYL</th>\n",
       "      <th>YUM</th>\n",
       "      <th>ZBH</th>\n",
       "      <th>ZION</th>\n",
       "      <th>ZTS</th>\n",
       "    </tr>\n",
       "  </thead>\n",
       "  <tbody>\n",
       "    <tr>\n",
       "      <th>Gold</th>\n",
       "      <td>0.000000</td>\n",
       "      <td>0.000000</td>\n",
       "      <td>0.000000</td>\n",
       "      <td>0.000000</td>\n",
       "      <td>0.00000</td>\n",
       "      <td>0.175639</td>\n",
       "      <td>0.000000</td>\n",
       "      <td>0.000000</td>\n",
       "      <td>0.274093</td>\n",
       "      <td>-0.098904</td>\n",
       "      <td>...</td>\n",
       "      <td>0.000000</td>\n",
       "      <td>0.000000</td>\n",
       "      <td>0.153300</td>\n",
       "      <td>0.00000</td>\n",
       "      <td>0.000000</td>\n",
       "      <td>0.000000</td>\n",
       "      <td>0.000000</td>\n",
       "      <td>0.170071</td>\n",
       "      <td>-0.474861</td>\n",
       "      <td>0.000000</td>\n",
       "    </tr>\n",
       "    <tr>\n",
       "      <th>Intercept</th>\n",
       "      <td>0.000000</td>\n",
       "      <td>0.000000</td>\n",
       "      <td>0.000000</td>\n",
       "      <td>0.000000</td>\n",
       "      <td>0.00000</td>\n",
       "      <td>0.000942</td>\n",
       "      <td>0.000000</td>\n",
       "      <td>0.000000</td>\n",
       "      <td>0.000000</td>\n",
       "      <td>0.000000</td>\n",
       "      <td>...</td>\n",
       "      <td>0.000000</td>\n",
       "      <td>0.000000</td>\n",
       "      <td>0.000000</td>\n",
       "      <td>0.00000</td>\n",
       "      <td>0.000000</td>\n",
       "      <td>0.000000</td>\n",
       "      <td>0.000000</td>\n",
       "      <td>0.000000</td>\n",
       "      <td>0.000000</td>\n",
       "      <td>0.000000</td>\n",
       "    </tr>\n",
       "    <tr>\n",
       "      <th>M_Index</th>\n",
       "      <td>1.061515</td>\n",
       "      <td>1.072202</td>\n",
       "      <td>1.081053</td>\n",
       "      <td>1.053285</td>\n",
       "      <td>1.33767</td>\n",
       "      <td>1.514176</td>\n",
       "      <td>2.049622</td>\n",
       "      <td>0.778218</td>\n",
       "      <td>0.632856</td>\n",
       "      <td>0.702940</td>\n",
       "      <td>...</td>\n",
       "      <td>0.730604</td>\n",
       "      <td>1.161474</td>\n",
       "      <td>0.204412</td>\n",
       "      <td>1.10387</td>\n",
       "      <td>1.408928</td>\n",
       "      <td>1.064455</td>\n",
       "      <td>0.735081</td>\n",
       "      <td>0.961743</td>\n",
       "      <td>1.025764</td>\n",
       "      <td>1.010348</td>\n",
       "    </tr>\n",
       "    <tr>\n",
       "      <th>NaturalGas</th>\n",
       "      <td>0.000000</td>\n",
       "      <td>0.000000</td>\n",
       "      <td>0.000000</td>\n",
       "      <td>0.000000</td>\n",
       "      <td>0.00000</td>\n",
       "      <td>0.000000</td>\n",
       "      <td>0.000000</td>\n",
       "      <td>0.000000</td>\n",
       "      <td>0.000000</td>\n",
       "      <td>0.000000</td>\n",
       "      <td>...</td>\n",
       "      <td>0.000000</td>\n",
       "      <td>0.000000</td>\n",
       "      <td>0.000000</td>\n",
       "      <td>0.00000</td>\n",
       "      <td>0.000000</td>\n",
       "      <td>0.000000</td>\n",
       "      <td>0.000000</td>\n",
       "      <td>0.000000</td>\n",
       "      <td>0.000000</td>\n",
       "      <td>0.000000</td>\n",
       "    </tr>\n",
       "    <tr>\n",
       "      <th>Oil</th>\n",
       "      <td>0.000000</td>\n",
       "      <td>-0.019398</td>\n",
       "      <td>0.000000</td>\n",
       "      <td>0.000000</td>\n",
       "      <td>0.00000</td>\n",
       "      <td>0.000000</td>\n",
       "      <td>0.000000</td>\n",
       "      <td>0.000000</td>\n",
       "      <td>0.000000</td>\n",
       "      <td>0.000000</td>\n",
       "      <td>...</td>\n",
       "      <td>-0.020855</td>\n",
       "      <td>0.044620</td>\n",
       "      <td>0.000000</td>\n",
       "      <td>0.00000</td>\n",
       "      <td>0.000000</td>\n",
       "      <td>0.000000</td>\n",
       "      <td>0.000000</td>\n",
       "      <td>0.000000</td>\n",
       "      <td>0.000000</td>\n",
       "      <td>0.000000</td>\n",
       "    </tr>\n",
       "  </tbody>\n",
       "</table>\n",
       "<p>5 rows × 430 columns</p>\n",
       "</div>"
      ],
      "text/plain": [
       "                 MMM       ABT      ABBV       ACN     ATVI      ADBE  \\\n",
       "Gold        0.000000  0.000000  0.000000  0.000000  0.00000  0.175639   \n",
       "Intercept   0.000000  0.000000  0.000000  0.000000  0.00000  0.000942   \n",
       "M_Index     1.061515  1.072202  1.081053  1.053285  1.33767  1.514176   \n",
       "NaturalGas  0.000000  0.000000  0.000000  0.000000  0.00000  0.000000   \n",
       "Oil         0.000000 -0.019398  0.000000  0.000000  0.00000  0.000000   \n",
       "\n",
       "                 AMD       AAP       AES       AFL  ...      WLTW      WYNN  \\\n",
       "Gold        0.000000  0.000000  0.274093 -0.098904  ...  0.000000  0.000000   \n",
       "Intercept   0.000000  0.000000  0.000000  0.000000  ...  0.000000  0.000000   \n",
       "M_Index     2.049622  0.778218  0.632856  0.702940  ...  0.730604  1.161474   \n",
       "NaturalGas  0.000000  0.000000  0.000000  0.000000  ...  0.000000  0.000000   \n",
       "Oil         0.000000  0.000000  0.000000  0.000000  ... -0.020855  0.044620   \n",
       "\n",
       "                 XEL      XRX      XLNX       XYL       YUM       ZBH  \\\n",
       "Gold        0.153300  0.00000  0.000000  0.000000  0.000000  0.170071   \n",
       "Intercept   0.000000  0.00000  0.000000  0.000000  0.000000  0.000000   \n",
       "M_Index     0.204412  1.10387  1.408928  1.064455  0.735081  0.961743   \n",
       "NaturalGas  0.000000  0.00000  0.000000  0.000000  0.000000  0.000000   \n",
       "Oil         0.000000  0.00000  0.000000  0.000000  0.000000  0.000000   \n",
       "\n",
       "                ZION       ZTS  \n",
       "Gold       -0.474861  0.000000  \n",
       "Intercept   0.000000  0.000000  \n",
       "M_Index     1.025764  1.010348  \n",
       "NaturalGas  0.000000  0.000000  \n",
       "Oil         0.000000  0.000000  \n",
       "\n",
       "[5 rows x 430 columns]"
      ]
     },
     "execution_count": 6,
     "metadata": {},
     "output_type": "execute_result"
    }
   ],
   "source": [
    "df2 = pd.DataFrame()\n",
    "for stock in complete.columns[1:431]:\n",
    "    frame = regress(stock)\n",
    "    df2 = pd.concat([df2,frame], axis=1)\n",
    "df2 = df2.fillna(0)\n",
    "df2.head()"
   ]
  },
  {
   "cell_type": "code",
   "execution_count": 7,
   "metadata": {},
   "outputs": [],
   "source": [
    "df2.to_csv(\"RegressionMatrix1.csv\",encoding=\"UTF-8\")"
   ]
  },
  {
   "cell_type": "markdown",
   "metadata": {},
   "source": [
    "<h2> <center>CLUSTERING ANALYSIS PROCESS STARTS HERE </center></h2>"
   ]
  },
  {
   "cell_type": "markdown",
   "metadata": {},
   "source": [
    "## 5. MACHINE LEARNING"
   ]
  },
  {
   "cell_type": "code",
   "execution_count": 1,
   "metadata": {},
   "outputs": [],
   "source": [
    "from IPython.display import display_html\n",
    "def restartkernel() :\n",
    "    display_html(\"<script>Jupyter.notebook.kernel.restart()</script>\",raw=True)"
   ]
  },
  {
   "cell_type": "code",
   "execution_count": null,
   "metadata": {},
   "outputs": [
    {
     "data": {
      "text/html": [
       "<script>Jupyter.notebook.kernel.restart()</script>"
      ]
     },
     "metadata": {},
     "output_type": "display_data"
    }
   ],
   "source": [
    "restartkernel()"
   ]
  },
  {
   "cell_type": "code",
   "execution_count": 2,
   "metadata": {},
   "outputs": [],
   "source": [
    "import datetime\n",
    "import pandas as pd\n",
    "import pandas_datareader.data as web\n",
    "import csv\n",
    "from lxml import html\n",
    "import requests\n",
    "import datetime\n",
    "import matplotlib.pyplot as plt\n",
    "import numpy as np\n",
    "import statsmodels.formula.api as sm"
   ]
  },
  {
   "cell_type": "markdown",
   "metadata": {},
   "source": [
    "### READ DE REGRESSION RESULTS"
   ]
  },
  {
   "cell_type": "code",
   "execution_count": 3,
   "metadata": {},
   "outputs": [
    {
     "data": {
      "text/html": [
       "<div>\n",
       "<style scoped>\n",
       "    .dataframe tbody tr th:only-of-type {\n",
       "        vertical-align: middle;\n",
       "    }\n",
       "\n",
       "    .dataframe tbody tr th {\n",
       "        vertical-align: top;\n",
       "    }\n",
       "\n",
       "    .dataframe thead th {\n",
       "        text-align: right;\n",
       "    }\n",
       "</style>\n",
       "<table border=\"1\" class=\"dataframe\">\n",
       "  <thead>\n",
       "    <tr style=\"text-align: right;\">\n",
       "      <th>Reference</th>\n",
       "      <th>Gold</th>\n",
       "      <th>Intercept</th>\n",
       "      <th>M_Index</th>\n",
       "      <th>NaturalGas</th>\n",
       "      <th>Oil</th>\n",
       "    </tr>\n",
       "  </thead>\n",
       "  <tbody>\n",
       "    <tr>\n",
       "      <th>MMM</th>\n",
       "      <td>0.055633</td>\n",
       "      <td>0.003303</td>\n",
       "      <td>0.404206</td>\n",
       "      <td>0.004997</td>\n",
       "      <td>-0.165211</td>\n",
       "    </tr>\n",
       "    <tr>\n",
       "      <th>ABT</th>\n",
       "      <td>0.055633</td>\n",
       "      <td>0.003303</td>\n",
       "      <td>0.437462</td>\n",
       "      <td>0.004997</td>\n",
       "      <td>-0.963738</td>\n",
       "    </tr>\n",
       "    <tr>\n",
       "      <th>ABBV</th>\n",
       "      <td>0.055633</td>\n",
       "      <td>0.003303</td>\n",
       "      <td>0.465003</td>\n",
       "      <td>0.004997</td>\n",
       "      <td>-0.165211</td>\n",
       "    </tr>\n",
       "    <tr>\n",
       "      <th>ACN</th>\n",
       "      <td>0.055633</td>\n",
       "      <td>0.003303</td>\n",
       "      <td>0.378595</td>\n",
       "      <td>0.004997</td>\n",
       "      <td>-0.165211</td>\n",
       "    </tr>\n",
       "    <tr>\n",
       "      <th>ATVI</th>\n",
       "      <td>0.055633</td>\n",
       "      <td>0.003303</td>\n",
       "      <td>1.263531</td>\n",
       "      <td>0.004997</td>\n",
       "      <td>-0.165211</td>\n",
       "    </tr>\n",
       "  </tbody>\n",
       "</table>\n",
       "</div>"
      ],
      "text/plain": [
       "Reference      Gold  Intercept   M_Index  NaturalGas       Oil\n",
       "MMM        0.055633   0.003303  0.404206    0.004997 -0.165211\n",
       "ABT        0.055633   0.003303  0.437462    0.004997 -0.963738\n",
       "ABBV       0.055633   0.003303  0.465003    0.004997 -0.165211\n",
       "ACN        0.055633   0.003303  0.378595    0.004997 -0.165211\n",
       "ATVI       0.055633   0.003303  1.263531    0.004997 -0.165211"
      ]
     },
     "execution_count": 3,
     "metadata": {},
     "output_type": "execute_result"
    }
   ],
   "source": [
    "df = pd.read_csv(\"RegressionMatrix1.csv\") \n",
    "df.rename(columns={'Unnamed: 0':'Reference'}, inplace=True)\n",
    "df = df.set_index('Reference').T\n",
    "for x in df.columns:\n",
    "    df[x] = (df[x] - df[x].mean())/df[x].std(ddof=0)\n",
    "df.head()"
   ]
  },
  {
   "cell_type": "markdown",
   "metadata": {},
   "source": [
    "## 6. CLUSTERING"
   ]
  },
  {
   "cell_type": "markdown",
   "metadata": {},
   "source": [
    " #### MODELING"
   ]
  },
  {
   "cell_type": "code",
   "execution_count": 4,
   "metadata": {},
   "outputs": [],
   "source": [
    "from sklearn.cluster import KMeans\n",
    "model = KMeans(n_clusters=8)\n",
    "model = model.fit(df)"
   ]
  },
  {
   "cell_type": "code",
   "execution_count": 5,
   "metadata": {},
   "outputs": [
    {
     "name": "stdout",
     "output_type": "stream",
     "text": [
      "[[ 5.35539348e-01  3.30263051e-03 -1.18049852e+00  4.99693278e-03\n",
      "  -2.57818029e-01]\n",
      " [ 7.20925941e-02  3.30263051e-03  4.84302391e-01  4.99693278e-03\n",
      "  -1.33313358e-01]\n",
      " [ 3.95909716e-01 -8.16478030e+00 -2.20441361e-02  4.99693278e-03\n",
      "  -1.65211220e-01]\n",
      " [ 4.77517045e-01 -1.39265539e-01  5.78495848e-01  4.99693278e-03\n",
      "   3.63646707e+00]\n",
      " [-8.70469903e-01  3.30263051e-03 -1.18254918e-01 -9.14876383e+00\n",
      "   3.62378572e-01]\n",
      " [ 6.73764692e-02  4.30189017e+00  9.13670443e-01  4.99693278e-03\n",
      "  -1.65211220e-01]\n",
      " [-1.81880957e+00  3.30263051e-03  3.87507557e-01  4.99693278e-03\n",
      "  -3.04129777e-01]\n",
      " [ 1.64003964e+00  3.30263051e-03  1.42621919e+00  1.61638374e+01\n",
      "  -2.03131530e+00]]\n"
     ]
    }
   ],
   "source": [
    "print(model.cluster_centers_)"
   ]
  },
  {
   "cell_type": "code",
   "execution_count": 6,
   "metadata": {},
   "outputs": [
    {
     "name": "stdout",
     "output_type": "stream",
     "text": [
      "[1 1 1 1 1 5 1 0 0 0 1 1 1 6 1 0 7 1 1 1 1 0 6 1 0 1 0 6 0 1 6 0 0 6 1 1 1\n",
      " 1 1 1 1 0 3 0 1 1 0 1 1 6 0 1 1 0 0 1 0 6 6 1 1 1 1 1 6 5 1 0 1 0 1 3 0 6\n",
      " 1 0 1 6 1 1 0 2 1 3 6 1 4 0 0 1 3 0 1 1 6 6 1 0 6 0 0 1 0 1 6 0 3 3 0 0 1\n",
      " 1 1 0 0 5 1 1 1 1 6 1 1 6 0 3 0 6 1 1 1 1 0 0 1 0 1 0 1 6 1 1 1 0 0 1 1 1\n",
      " 0 3 0 0 0 0 1 0 0 0 1 1 0 3 1 1 6 0 1 1 6 0 1 1 1 1 1 1 1 1 3 1 1 1 1 2 0\n",
      " 1 0 1 1 6 1 3 1 1 6 0 1 3 1 0 3 1 1 1 1 1 0 6 1 0 6 1 1 1 1 1 1 1 1 1 1 1\n",
      " 0 1 1 1 0 1 0 0 1 6 1 1 0 6 0 0 1 1 6 2 0 1 1 1 1 1 0 6 1 0 1 1 1 6 6 3 3\n",
      " 1 0 1 1 5 0 0 1 0 0 6 1 1 1 5 0 1 0 0 1 1 6 1 1 1 0 3 1 1 2 0 1 1 0 1 1 0\n",
      " 3 6 6 6 0 0 1 6 0 3 0 3 1 1 1 1 5 1 6 0 1 1 0 0 1 0 3 6 1 1 0 1 0 5 0 6 0\n",
      " 0 0 1 1 1 1 0 6 1 0 0 1 6 0 6 1 1 6 1 1 0 0 1 0 1 0 1 0 6 1 1 0 1 1 6 5 0\n",
      " 1 0 1 3 1 6 1 1 0 1 1 0 0 0 1 6 1 1 1 6 1 1 1 1 0 6 1 1 1 0 1 1 0 1 1 0 1\n",
      " 0 1 0 0 1 0 4 1 0 1 0 1 3 0 1 0 1 1 1 0 1 6 1]\n"
     ]
    }
   ],
   "source": [
    "print(model.labels_)"
   ]
  },
  {
   "cell_type": "markdown",
   "metadata": {},
   "source": [
    "#### MAIN RESULTS"
   ]
  },
  {
   "cell_type": "code",
   "execution_count": 7,
   "metadata": {},
   "outputs": [
    {
     "name": "stdout",
     "output_type": "stream",
     "text": [
      "Reference      Gold  Intercept   M_Index  NaturalGas       Oil  Group\n",
      "MMM        0.055633   0.003303  0.404206    0.004997 -0.165211      1\n",
      "ABT        0.055633   0.003303  0.437462    0.004997 -0.963738      1\n",
      "ABBV       0.055633   0.003303  0.465003    0.004997 -0.165211      1\n",
      "ACN        0.055633   0.003303  0.378595    0.004997 -0.165211      1\n",
      "ATVI       0.055633   0.003303  1.263531    0.004997 -0.165211      1\n",
      "...             ...        ...       ...         ...       ...    ...\n",
      "XYL        0.055633   0.003303  0.413355    0.004997 -0.165211      1\n",
      "YUM        0.055633   0.003303 -0.611576    0.004997 -0.165211      0\n",
      "ZBH        0.994809   0.003303  0.093740    0.004997 -0.165211      1\n",
      "ZION      -2.566676   0.003303  0.292957    0.004997 -0.165211      6\n",
      "ZTS        0.055633   0.003303  0.244985    0.004997 -0.165211      1\n",
      "\n",
      "[430 rows x 6 columns]\n"
     ]
    }
   ],
   "source": [
    "df[\"Group\"] = model.labels_\n",
    "print(df)"
   ]
  },
  {
   "cell_type": "code",
   "execution_count": 8,
   "metadata": {},
   "outputs": [
    {
     "name": "stdout",
     "output_type": "stream",
     "text": [
      "Reference      Gold  Intercept   M_Index  NaturalGas       Oil  Group\n",
      "MMM        0.055633   0.003303  0.404206    0.004997 -0.165211      1\n",
      "ABT        0.055633   0.003303  0.437462    0.004997 -0.963738      1\n",
      "ABBV       0.055633   0.003303  0.465003    0.004997 -0.165211      1\n",
      "ACN        0.055633   0.003303  0.378595    0.004997 -0.165211      1\n",
      "ATVI       0.055633   0.003303  1.263531    0.004997 -0.165211      1\n",
      "...             ...        ...       ...         ...       ...    ...\n",
      "XRX        0.055633   0.003303  0.536004    0.004997 -0.165211      1\n",
      "XLNX       0.055633   0.003303  1.485266    0.004997 -0.165211      1\n",
      "XYL        0.055633   0.003303  0.413355    0.004997 -0.165211      1\n",
      "ZBH        0.994809   0.003303  0.093740    0.004997 -0.165211      1\n",
      "ZTS        0.055633   0.003303  0.244985    0.004997 -0.165211      1\n",
      "\n",
      "[217 rows x 6 columns]\n"
     ]
    }
   ],
   "source": [
    "print(df[df[\"Group\"]==1])"
   ]
  },
  {
   "cell_type": "code",
   "execution_count": 9,
   "metadata": {},
   "outputs": [
    {
     "name": "stdout",
     "output_type": "stream",
     "text": [
      "Reference      Gold  Intercept   M_Index  NaturalGas       Oil  Group\n",
      "AAP        0.055633   0.003303 -0.477343    0.004997 -0.165211      0\n",
      "AES        1.569245   0.003303 -0.929674    0.004997 -0.165211      0\n",
      "AFL       -0.490539   0.003303 -0.711588    0.004997 -0.165211      0\n",
      "ARE        0.949638   0.003303 -0.862080    0.004997 -0.165211      0\n",
      "LNT        1.006822   0.003303 -2.089817    0.004997 -0.165211      0\n",
      "...             ...        ...       ...         ...       ...    ...\n",
      "WU         0.055633   0.003303 -0.568766    0.004997  0.771078      0\n",
      "WY         1.090379   0.003303 -0.230064    0.004997 -0.165211      0\n",
      "WLTW       0.055633   0.003303 -0.625508    0.004997 -1.023740      0\n",
      "XEL        0.902195   0.003303 -2.262882    0.004997 -0.165211      0\n",
      "YUM        0.055633   0.003303 -0.611576    0.004997 -0.165211      0\n",
      "\n",
      "[124 rows x 6 columns]\n",
      "Reference      Gold  Intercept   M_Index  NaturalGas       Oil  Group\n",
      "MMM        0.055633   0.003303  0.404206    0.004997 -0.165211      1\n",
      "ABT        0.055633   0.003303  0.437462    0.004997 -0.963738      1\n",
      "ABBV       0.055633   0.003303  0.465003    0.004997 -0.165211      1\n",
      "ACN        0.055633   0.003303  0.378595    0.004997 -0.165211      1\n",
      "ATVI       0.055633   0.003303  1.263531    0.004997 -0.165211      1\n",
      "...             ...        ...       ...         ...       ...    ...\n",
      "XRX        0.055633   0.003303  0.536004    0.004997 -0.165211      1\n",
      "XLNX       0.055633   0.003303  1.485266    0.004997 -0.165211      1\n",
      "XYL        0.055633   0.003303  0.413355    0.004997 -0.165211      1\n",
      "ZBH        0.994809   0.003303  0.093740    0.004997 -0.165211      1\n",
      "ZTS        0.055633   0.003303  0.244985    0.004997 -0.165211      1\n",
      "\n",
      "[217 rows x 6 columns]\n",
      "Reference      Gold  Intercept   M_Index  NaturalGas       Oil  Group\n",
      "CTL        1.416740  -7.604940  0.239932    0.004997 -0.165211      2\n",
      "GE         0.055633  -8.465641 -0.188919    0.004997 -0.165211      2\n",
      "KHC        0.055633  -7.669821 -0.769857    0.004997 -0.165211      2\n",
      "NWL        0.055633  -8.918719  0.630667    0.004997 -0.165211      2\n",
      "Reference      Gold  Intercept   M_Index  NaturalGas       Oil  Group\n",
      "APA        0.055633   0.003303  0.474738    0.004997  4.248213      3\n",
      "COG        0.055633   0.003303 -0.452409    0.004997  2.323019      3\n",
      "CF         0.055633   0.003303  1.111452    0.004997  1.785005      3\n",
      "XEC        0.055633   0.003303  0.551226    0.004997  3.832168      3\n",
      "CXO        0.055633   0.003303  0.590005    0.004997  5.043463      3\n",
      "COP        0.055633   0.003303  0.204302    0.004997  4.396465      3\n",
      "DVN        0.055633   0.003303  1.145239    0.004997  4.821551      3\n",
      "EOG        0.055633   0.003303  0.302312    0.004997  3.763531      3\n",
      "XOM        0.055633  -3.133197 -0.428334    0.004997  2.011437      3\n",
      "FCX        4.325991   0.003303  2.364583    0.004997  2.495361      3\n",
      "HAL        1.059560   0.003303  0.345400    0.004997  3.064633      3\n",
      "HP         0.055633   0.003303  0.392036    0.004997  3.541729      3\n",
      "HES        0.055633   0.003303  1.565203    0.004997  5.230432      3\n",
      "MRO        0.055633   0.003303  1.551130    0.004997  6.582896      3\n",
      "MPC        0.055633   0.003303  0.619088    0.004997  4.183907      3\n",
      "NOV        0.055633   0.003303  0.608726    0.004997  3.443092      3\n",
      "NBL        0.055633   0.003303  1.075473    0.004997  4.278374      3\n",
      "OXY        0.938577   0.003303 -0.238969    0.004997  2.191376      3\n",
      "OKE        0.845065   0.003303 -0.095182    0.004997  3.835452      3\n",
      "PXD        0.055633   0.003303  0.668698    0.004997  3.389640      3\n",
      "FTI        1.356722   0.003303  0.483163    0.004997  3.433108      3\n",
      "WMB        1.089331   0.003303 -0.110970    0.004997  2.107426      3\n",
      "Reference      Gold  Intercept   M_Index  NaturalGas       Oil  Group\n",
      "CVX        0.055633   0.003303 -0.247093   -8.336378  1.837556      4\n",
      "WFC       -1.796573   0.003303  0.010583   -9.961149 -1.112799      4\n",
      "Reference      Gold  Intercept   M_Index  NaturalGas       Oil  Group\n",
      "ADBE       1.025557   4.469607  1.812772    0.004997 -0.165211      5\n",
      "BA         0.055633   4.891134  0.902019    0.004997 -0.165211      5\n",
      "CSX        0.055633   5.392090  0.584970    0.004997 -0.165211      5\n",
      "MA         0.055633   4.235678  1.155658    0.004997 -0.165211      5\n",
      "MSFT       0.055633   3.248971  1.376946    0.004997 -0.165211      5\n",
      "PYPL       0.055633   4.948532  1.280960    0.004997 -0.165211      5\n",
      "PGR       -0.820343   3.943685 -0.333002    0.004997 -0.165211      5\n",
      "SNPS       0.055633   3.285423  0.529042    0.004997 -0.165211      5\n",
      "Reference      Gold  Intercept   M_Index  NaturalGas       Oil  Group\n",
      "ALK       -1.600007   0.003303  0.226284    0.004997 -1.845240      6\n",
      "ALL       -0.912663   0.003303 -0.678166    0.004997 -0.165211      6\n",
      "AAL       -1.666420   0.003303  1.483632    0.004997 -0.165211      6\n",
      "AIG       -1.186328   0.003303 -0.341905    0.004997 -0.165211      6\n",
      "AMP       -1.485200   0.003303  1.447405    0.004997 -0.165211      6\n",
      "AIZ       -1.838863   0.003303 -0.511158    0.004997 -0.165211      6\n",
      "BAC       -2.979372   0.003303  0.685053    0.004997 -0.165211      6\n",
      "BK        -1.382963   0.003303 -0.003356    0.004997 -0.165211      6\n",
      "HRB       -1.207569   0.003303 -0.438259    0.004997 -0.165211      6\n",
      "COF       -1.678426   0.003303  0.568528    0.004997 -0.165211      6\n",
      "CCL       -0.802209   0.003303  0.056022    0.004997 -1.757619      6\n",
      "SCHW      -2.848981   0.003303  1.071420    0.004997 -0.165211      6\n",
      "C         -1.740218   0.003303  0.641570    0.004997 -0.165211      6\n",
      "CFG       -3.008831   0.003303  0.533821    0.004997 -0.165211      6\n",
      "CME       -1.210928   0.003303 -0.862105    0.004997 -0.165211      6\n",
      "CMA       -2.431845   0.003303  0.372823    0.004997 -0.165211      6\n",
      "DRI       -0.989313   0.003303 -0.757214    0.004997 -0.165211      6\n",
      "DAL       -1.520777   0.003303  0.621652    0.004997 -1.579532      6\n",
      "DFS       -1.457835   0.003303  0.741872    0.004997 -0.165211      6\n",
      "ETFC      -2.278970   0.003303  0.990950    0.004997 -0.165211      6\n",
      "FAST      -0.908312   0.003303  0.306497    0.004997 -0.165211      6\n",
      "FITB      -2.369409   0.003303  0.019920    0.004997 -0.165211      6\n",
      "GS        -1.597618   0.003303  0.904477    0.004997 -0.165211      6\n",
      "HIG       -1.342087   0.003303 -0.507428    0.004997 -0.165211      6\n",
      "HST       -1.364264   0.003303 -0.332679    0.004997 -0.165211      6\n",
      "HBAN      -2.909176   0.003303  0.135121    0.004997 -0.165211      6\n",
      "JPM       -1.767495   0.003303  0.270694    0.004997 -0.165211      6\n",
      "KEY       -2.873690   0.003303  0.446843    0.004997 -0.165211      6\n",
      "KSS       -1.873805   0.003303  0.275921    0.004997 -0.165211      6\n",
      "LNC       -2.601776   0.003303  1.077762    0.004997 -0.165211      6\n",
      "MTB       -1.901725   0.003303 -0.212666    0.004997 -0.165211      6\n",
      "M         -1.779492   0.003303  0.097384    0.004997 -0.165211      6\n",
      "MET       -2.261800   0.003303  0.397358    0.004997 -0.165211      6\n",
      "MS        -2.289084   0.003303  1.219905    0.004997 -0.165211      6\n",
      "JWN       -1.738329   0.003303 -0.121922    0.004997 -0.165211      6\n",
      "NSC       -1.060775   0.003303  0.591182    0.004997 -0.165211      6\n",
      "NTRS      -1.658390   0.003303  0.499049    0.004997 -0.165211      6\n",
      "NVDA      -2.550670   0.003303  3.084899    0.004997 -0.165211      6\n",
      "PBCT      -1.808065   0.003303 -0.286802    0.004997 -0.165211      6\n",
      "PNC       -2.116571   0.003303 -0.026673    0.004997 -0.165211      6\n",
      "PRU       -2.074226   0.003303  0.769982    0.004997 -0.165211      6\n",
      "RJF       -1.738584   0.003303  1.109149    0.004997 -1.126618      6\n",
      "RF        -2.876203   0.003303  0.482409    0.004997 -0.165211      6\n",
      "RHI       -1.632506   0.003303  1.129923    0.004997 -0.165211      6\n",
      "RCL       -0.914711   0.003303  0.916856    0.004997 -1.740813      6\n",
      "LUV       -1.733086   0.003303 -0.024297    0.004997 -0.165211      6\n",
      "SYF       -1.609188   0.003303  0.592615    0.004997 -0.165211      6\n",
      "TXT       -0.893922   0.003303  0.451414    0.004997 -0.165211      6\n",
      "USB       -1.311535   0.003303 -0.360831    0.004997 -0.165211      6\n",
      "UAL       -2.052382   0.003303  0.408464    0.004997 -0.165211      6\n",
      "UNM       -2.174826   0.003303  0.694044    0.004997 -0.165211      6\n",
      "ZION      -2.566676   0.003303  0.292957    0.004997 -0.165211      6\n",
      "Reference     Gold  Intercept   M_Index  NaturalGas       Oil  Group\n",
      "ALXN       1.64004   0.003303  1.426219   16.163837 -2.031315      7\n"
     ]
    }
   ],
   "source": [
    "for x in range(8):\n",
    "    print(df[df[\"Group\"]==x])"
   ]
  },
  {
   "cell_type": "code",
   "execution_count": 10,
   "metadata": {},
   "outputs": [],
   "source": [
    "df = pd.read_csv(\"RegressionMatrix1.csv\",encoding=\"UTF-8\")\n",
    "SP500 = pd.read_csv(\"n_SP500.csv\", encoding=\"UTF-8\")\n",
    "df = df.fillna(0)\n",
    "tickers = []\n",
    "df = df.transpose()"
   ]
  },
  {
   "cell_type": "code",
   "execution_count": 82,
   "metadata": {},
   "outputs": [
    {
     "data": {
      "text/plain": [
       "'GICS Sub Industry'"
      ]
     },
     "execution_count": 82,
     "metadata": {},
     "output_type": "execute_result"
    }
   ],
   "source": [
    "SP500 = pd.read_csv(\"Catalog.csv\", encoding=\"UTF-8\")\n",
    "S=SP500.T\n",
    "new_header = S.iloc[0] #grab the first row for the header\n",
    "S = S[1:] #take the data less the header row\n",
    "S.columns = new_header #set the header row as the df header\n",
    "S.fillna(0, inplace=True)\n",
    "SP500=S\n",
    "SP500.columns[3]"
   ]
  },
  {
   "cell_type": "markdown",
   "metadata": {},
   "source": [
    "## 7. ORGANIZING THE RESULTS"
   ]
  },
  {
   "cell_type": "code",
   "execution_count": 2,
   "metadata": {},
   "outputs": [],
   "source": [
    "from sklearn.cluster import KMeans\n",
    "import pandas as pd\n",
    "def group(n):\n",
    "    df = pd.read_csv(\"RegressionMatrix1.csv\") \n",
    "    df.rename(columns={'Unnamed: 0':'Reference'}, inplace=True)\n",
    "    df = df.set_index('Reference').T\n",
    "    df = df.fillna(0)\n",
    "    SP500 = pd.read_csv(\"Catalog.csv\", encoding=\"UTF-8\")\n",
    "    S=SP500.T\n",
    "    new_header = S.iloc[0] #grab the first row for the header\n",
    "    S = S[1:] #take the data less the header row\n",
    "    S.columns = new_header #set the header row as the df header\n",
    "    S.fillna(0, inplace=True)\n",
    "    SP500=S\n",
    " \n",
    "    \n",
    "    zScores = pd.DataFrame()\n",
    "    for x in df.columns:\n",
    "        zScores[x] = (df[x] - df[x].mean())/df[x].std(ddof=0)\n",
    "    \n",
    "    SP500 = pd.concat([SP500,df],axis=1)\n",
    "    \n",
    "    model = KMeans(n_clusters=n)\n",
    "    model = model.fit(zScores)\n",
    "\n",
    "    SP500[\"Group\"] = model.labels_\n",
    "    return SP500\n"
   ]
  },
  {
   "cell_type": "code",
   "execution_count": 3,
   "metadata": {},
   "outputs": [],
   "source": [
    "S=group(8)"
   ]
  },
  {
   "cell_type": "code",
   "execution_count": 17,
   "metadata": {},
   "outputs": [],
   "source": [
    "S.rename(columns={'GICS\\xa0Sector': 'Sector'}, inplace=True)\n",
    "S.rename(columns={'GICS Sub Industry': 'Sub Sector'}, inplace=True)\n",
    "S.to_csv(\"GroupedSP500.csv\",encoding=\"UTF-8\")"
   ]
  },
  {
   "cell_type": "markdown",
   "metadata": {},
   "source": [
    "#### SUMMARY TABLES"
   ]
  },
  {
   "cell_type": "markdown",
   "metadata": {},
   "source": [
    "**Sector Classification**"
   ]
  },
  {
   "cell_type": "code",
   "execution_count": 18,
   "metadata": {},
   "outputs": [
    {
     "name": "stdout",
     "output_type": "stream",
     "text": [
      "Industrials               60\n",
      "Financials                58\n",
      "Consumer Discretionary    55\n",
      "Health Care               55\n",
      "Information Technology    55\n",
      "Consumer Staples          31\n",
      "Real Estate               26\n",
      "Utilities                 26\n",
      "Energy                    24\n",
      "Materials                 22\n",
      "Communication Services    18\n",
      "Name: Sector, dtype: int64\n"
     ]
    }
   ],
   "source": [
    "print(S[\"Sector\"].value_counts())"
   ]
  },
  {
   "cell_type": "markdown",
   "metadata": {},
   "source": [
    "**Looking at how Financials re-group**"
   ]
  },
  {
   "cell_type": "code",
   "execution_count": 19,
   "metadata": {},
   "outputs": [
    {
     "name": "stdout",
     "output_type": "stream",
     "text": [
      "6    34\n",
      "0    12\n",
      "1    10\n",
      "7     1\n",
      "5     1\n",
      "Name: Group, dtype: int64\n"
     ]
    }
   ],
   "source": [
    "print(S[S[\"Sector\"]==\"Financials\"][\"Group\"].value_counts())"
   ]
  },
  {
   "cell_type": "markdown",
   "metadata": {},
   "source": [
    "**Looking at how all sectors are re-classified**"
   ]
  },
  {
   "cell_type": "code",
   "execution_count": 20,
   "metadata": {},
   "outputs": [
    {
     "name": "stdout",
     "output_type": "stream",
     "text": [
      "0    43\n",
      "6     9\n",
      "1     5\n",
      "7     2\n",
      "2     1\n",
      "Name: Group, dtype: int64\n",
      "0    43\n",
      "1    11\n",
      "4     1\n",
      "Name: Group, dtype: int64\n",
      "0    48\n",
      "7     5\n",
      "6     1\n",
      "1     1\n",
      "Name: Group, dtype: int64\n",
      "0    13\n",
      "1     4\n",
      "2     1\n",
      "Name: Group, dtype: int64\n",
      "0    35\n",
      "1    12\n",
      "6     7\n",
      "2     1\n",
      "Name: Group, dtype: int64\n",
      "1    26\n",
      "Name: Group, dtype: int64\n",
      "6    34\n",
      "0    12\n",
      "1    10\n",
      "7     1\n",
      "5     1\n",
      "Name: Group, dtype: int64\n",
      "0    16\n",
      "1     5\n",
      "3     1\n",
      "Name: Group, dtype: int64\n",
      "1    25\n",
      "6     1\n",
      "Name: Group, dtype: int64\n",
      "1    26\n",
      "0     4\n",
      "2     1\n",
      "Name: Group, dtype: int64\n",
      "3    20\n",
      "0     3\n",
      "5     1\n",
      "Name: Group, dtype: int64\n"
     ]
    }
   ],
   "source": [
    "for x in S[\"Sector\"].unique():\n",
    "    print(S[S[\"Sector\"]==x][\"Group\"].value_counts())"
   ]
  },
  {
   "cell_type": "markdown",
   "metadata": {},
   "source": [
    "**Another view at Industry re-grouping\""
   ]
  },
  {
   "cell_type": "code",
   "execution_count": 21,
   "metadata": {},
   "outputs": [
    {
     "name": "stdout",
     "output_type": "stream",
     "text": [
      "Group  Sector                \n",
      "0      Information Technology    48\n",
      "       Health Care               43\n",
      "       Industrials               43\n",
      "       Consumer Discretionary    35\n",
      "       Materials                 16\n",
      "       Communication Services    13\n",
      "       Financials                12\n",
      "       Consumer Staples           4\n",
      "       Energy                     3\n",
      "1      Consumer Staples          26\n",
      "       Utilities                 26\n",
      "       Real Estate               25\n",
      "       Consumer Discretionary    12\n",
      "       Health Care               11\n",
      "       Financials                10\n",
      "       Industrials                5\n",
      "       Materials                  5\n",
      "       Communication Services     4\n",
      "       Information Technology     1\n",
      "2      Communication Services     1\n",
      "       Consumer Discretionary     1\n",
      "       Consumer Staples           1\n",
      "       Industrials                1\n",
      "3      Energy                    20\n",
      "       Materials                  1\n",
      "4      Health Care                1\n",
      "5      Energy                     1\n",
      "       Financials                 1\n",
      "6      Financials                34\n",
      "       Industrials                9\n",
      "       Consumer Discretionary     7\n",
      "       Information Technology     1\n",
      "       Real Estate                1\n",
      "7      Information Technology     5\n",
      "       Industrials                2\n",
      "       Financials                 1\n",
      "Name: Sector, dtype: int64\n"
     ]
    }
   ],
   "source": [
    "print(S.groupby(\"Group\")[\"Sector\"].value_counts())"
   ]
  },
  {
   "cell_type": "code",
   "execution_count": 22,
   "metadata": {},
   "outputs": [],
   "source": [
    "df = pd.read_csv(\"RegressionMatrix1.csv\") \n",
    "df.rename(columns={'Unnamed: 0':'Reference'}, inplace=True)\n",
    "df = df.set_index('Reference').T\n",
    "df = df.fillna(0)"
   ]
  },
  {
   "cell_type": "code",
   "execution_count": 23,
   "metadata": {},
   "outputs": [
    {
     "data": {
      "text/plain": [
       "MMM     0\n",
       "ABT     0\n",
       "ABBV    0\n",
       "ACN     0\n",
       "ATVI    0\n",
       "       ..\n",
       "XYL     0\n",
       "YUM     1\n",
       "ZBH     0\n",
       "ZION    6\n",
       "ZTS     0\n",
       "Name: Group, Length: 430, dtype: int32"
      ]
     },
     "execution_count": 23,
     "metadata": {},
     "output_type": "execute_result"
    }
   ],
   "source": [
    "S[\"Group\"]"
   ]
  },
  {
   "cell_type": "code",
   "execution_count": null,
   "metadata": {},
   "outputs": [],
   "source": []
  },
  {
   "cell_type": "markdown",
   "metadata": {},
   "source": [
    "## 8. VISUALIZATION "
   ]
  },
  {
   "cell_type": "markdown",
   "metadata": {},
   "source": [
    "#### RELOAD FORMATED INFORMATION"
   ]
  },
  {
   "cell_type": "code",
   "execution_count": 26,
   "metadata": {},
   "outputs": [
    {
     "name": "stdout",
     "output_type": "stream",
     "text": [
      "Group  Sector                \n",
      "0      Information Technology    48\n",
      "       Health Care               43\n",
      "       Industrials               43\n",
      "       Consumer Discretionary    35\n",
      "       Materials                 16\n",
      "       Communication Services    13\n",
      "       Financials                12\n",
      "       Consumer Staples           4\n",
      "       Energy                     3\n",
      "1      Consumer Staples          26\n",
      "       Utilities                 26\n",
      "       Real Estate               25\n",
      "       Consumer Discretionary    12\n",
      "       Health Care               11\n",
      "       Financials                10\n",
      "       Industrials                5\n",
      "       Materials                  5\n",
      "       Communication Services     4\n",
      "       Information Technology     1\n",
      "2      Communication Services     1\n",
      "       Consumer Discretionary     1\n",
      "       Consumer Staples           1\n",
      "       Industrials                1\n",
      "3      Energy                    20\n",
      "       Materials                  1\n",
      "4      Health Care                1\n",
      "5      Energy                     1\n",
      "       Financials                 1\n",
      "6      Financials                34\n",
      "       Industrials                9\n",
      "       Consumer Discretionary     7\n",
      "       Information Technology     1\n",
      "       Real Estate                1\n",
      "7      Information Technology     5\n",
      "       Industrials                2\n",
      "       Financials                 1\n",
      "Name: Sector, dtype: int64\n"
     ]
    }
   ],
   "source": [
    "import pandas as pd\n",
    "df = pd.read_csv(\"GroupedSP500.csv\", encoding=\"UTF-8\")\n",
    "print(df.groupby(\"Group\")[\"Sector\"].value_counts())"
   ]
  },
  {
   "cell_type": "markdown",
   "metadata": {},
   "source": [
    "#### REGRESSION ESTIMATES PER GROUP"
   ]
  },
  {
   "cell_type": "code",
   "execution_count": 33,
   "metadata": {},
   "outputs": [
    {
     "name": "stdout",
     "output_type": "stream",
     "text": [
      "           Gold  Intercept   M_Index  NaturalGas       Oil\n",
      "Group                                                     \n",
      "0      0.002981   0.000000  1.089174    0.000000  0.001257\n",
      "1      0.086209   0.000000  0.554811    0.000000 -0.002690\n",
      "2      0.061619  -0.001722  0.924534    0.000000  0.000000\n",
      "3      0.080035  -0.000031  1.109370    0.000000  0.094492\n",
      "4      0.286913   0.000000  1.389952    0.000337 -0.045331\n",
      "5     -0.167704   0.000000  0.893616   -0.000191  0.012816\n",
      "6     -0.339434   0.000000  1.056149    0.000000 -0.003375\n",
      "7      0.002127   0.000906  1.225238    0.000000  0.000000\n"
     ]
    }
   ],
   "source": [
    "print(df.groupby(\"Group\").mean())"
   ]
  },
  {
   "cell_type": "markdown",
   "metadata": {},
   "source": [
    "#### VISUALIZATION OF REGRESSION ESTIMATES PER GROUP"
   ]
  },
  {
   "cell_type": "code",
   "execution_count": 61,
   "metadata": {},
   "outputs": [
    {
     "data": {
      "text/plain": [
       "<matplotlib.figure.Figure at 0x2e8e2701eb8>"
      ]
     },
     "metadata": {},
     "output_type": "display_data"
    },
    {
     "data": {
      "image/png": "[encoded data removed]",
      "text/plain": [
       "<matplotlib.figure.Figure at 0x2e8e2900f60>"
      ]
     },
     "metadata": {
      "needs_background": "light"
     },
     "output_type": "display_data"
    }
   ],
   "source": [
    "import matplotlib.pyplot as plt\n",
    "average= df.groupby(\"Group\").mean()\n",
    "fig, plt.figure(figsize=(12,12))\n",
    "fig= average.plot.bar()\n",
    "fig.set_title(\"Parameters\")\n",
    "fig.grid()\n",
    "plt.show()"
   ]
  },
  {
   "cell_type": "markdown",
   "metadata": {},
   "source": [
    "#### VISUALIZATION OF GROUPING "
   ]
  },
  {
   "cell_type": "code",
   "execution_count": 64,
   "metadata": {},
   "outputs": [
    {
     "data": {
      "image/png": "[encoded data removed]",
      "text/plain": [
       "<matplotlib.figure.Figure at 0x2e8e26a5908>"
      ]
     },
     "metadata": {},
     "output_type": "display_data"
    },
    {
     "data": {
      "image/png": "[encoded data removed]",
      "text/plain": [
       "<matplotlib.figure.Figure at 0x2e8e2615080>"
      ]
     },
     "metadata": {},
     "output_type": "display_data"
    },
    {
     "data": {
      "image/png": "[encoded data removed]",
      "text/plain": [
       "<matplotlib.figure.Figure at 0x2e8e29d30f0>"
      ]
     },
     "metadata": {},
     "output_type": "display_data"
    },
    {
     "data": {
      "image/png": "[encoded data removed]",
      "text/plain": [
       "<matplotlib.figure.Figure at 0x2e8e29fca20>"
      ]
     },
     "metadata": {},
     "output_type": "display_data"
    },
    {
     "data": {
      "image/png": "[encoded data removed]",
      "text/plain": [
       "<matplotlib.figure.Figure at 0x2e8e2a533c8>"
      ]
     },
     "metadata": {},
     "output_type": "display_data"
    },
    {
     "data": {
      "image/png": "[encoded data removed]",
      "text/plain": [
       "<matplotlib.figure.Figure at 0x2e8e2aa3e10>"
      ]
     },
     "metadata": {},
     "output_type": "display_data"
    },
    {
     "data": {
      "image/png": "[encoded data removed]",
      "text/plain": [
       "<matplotlib.figure.Figure at 0x2e8e2afceb8>"
      ]
     },
     "metadata": {},
     "output_type": "display_data"
    },
    {
     "data": {
      "image/png": "[encoded data removed]",
      "text/plain": [
       "<matplotlib.figure.Figure at 0x2e8e2b30cc0>"
      ]
     },
     "metadata": {},
     "output_type": "display_data"
    },
    {
     "data": {
      "image/png": "[encoded data removed]",
      "text/plain": [
       "<matplotlib.figure.Figure at 0x2e8e2ba2c50>"
      ]
     },
     "metadata": {},
     "output_type": "display_data"
    },
    {
     "data": {
      "image/png": "[encoded data removed]",
      "text/plain": [
       "<matplotlib.figure.Figure at 0x2e8e2c65d68>"
      ]
     },
     "metadata": {},
     "output_type": "display_data"
    },
    {
     "data": {
      "image/png": "[encoded data removed]",
      "text/plain": [
       "<matplotlib.figure.Figure at 0x2e8e2cadba8>"
      ]
     },
     "metadata": {},
     "output_type": "display_data"
    }
   ],
   "source": [
    "for x in df[\"Sector\"].unique():\n",
    "    frame = df[df[\"Sector\"]==x]\n",
    "    frame[\"Group\"].value_counts().plot(kind='pie',legend=True,title=x)\n",
    "    plt.show()"
   ]
  }
 ],
 "metadata": {
  "kernelspec": {
   "display_name": "Python 3",
   "language": "python",
   "name": "python3"
  },
  "language_info": {
   "codemirror_mode": {
    "name": "ipython",
    "version": 3
   },
   "file_extension": ".py",
   "mimetype": "text/x-python",
   "name": "python",
   "nbconvert_exporter": "python",
   "pygments_lexer": "ipython3",
   "version": "3.6.4"
  }
 },
 "nbformat": 4,
 "nbformat_minor": 2
}
