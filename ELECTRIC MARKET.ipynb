{
 "cells": [
  {
   "cell_type": "markdown",
   "metadata": {},
   "source": [
    "<h1><center>FORECASTING THE ELECTRICITY MARKET</center></h1>\n",
    "<h2><center>USING CNN+LSTM ARCHITECTURES</center></h2>"
   ]
  },
  {
   "cell_type": "markdown",
   "metadata": {},
   "source": [
    "This section comes from **Ren, Y (2019) `\"Get Started with Using CNN+LSTM for Forecasting\n",
    "A method you should consider when you have data of low granularity with recurring local pattern\"`. **\n",
    "\n",
    "This can be found at  https://towardsdatascience.com/get-started-with-using-cnn-lstm-for-forecasting-6f0f4dde5826"
   ]
  },
  {
   "cell_type": "markdown",
   "metadata": {},
   "source": [
    "## 1. MOTIVATION\n",
    "\n",
    "Predicting the trend has been an ancient discipline yet it’s never fallen from popularity. Whether it is stock price in financial market, power or energy consumption, or sales projection for corporate planning, a series of time-based data points can be the representation of how the world is thinking in any given moment. \n",
    "\n",
    "Time Series model is very effective when there are clearly trend, seasonality or autocorrelation in the data. However, the real world situation is far more complex that is impacted by multiple factors including economic phenomena, media effects, competitors’ behaviors, or even short-term fluctuations. These factors are manifest especially when forecasting reaches to the granular level such as hours, or minutes. LSTM (long short-term memory) is a recurrent neural network architecture that has been adopted for time series forecasting. I have been using stateful LSTM for my automated real-time prediction, as I need the model to transfer states between batches. Recently, I found adding convolutional layers to capture local, temporal pattern on top of LSTM layers can be immensely helpful in certain scenarios. In this post, I will use a simple example to demonstrate this architecture. I also strongly recommend Jason Brownlee’s blog posts of deep learning for time series. I personally benefit a lot from this series."
   ]
  },
  {
   "cell_type": "markdown",
   "metadata": {},
   "source": [
    "lstm models finance\n",
    "\n",
    "\n",
    "https://www.ncbi.nlm.nih.gov/pmc/articles/PMC6377125/"
   ]
  },
  {
   "cell_type": "code",
   "execution_count": null,
   "metadata": {},
   "outputs": [],
   "source": []
  },
  {
   "cell_type": "code",
   "execution_count": null,
   "metadata": {},
   "outputs": [],
   "source": []
  },
  {
   "cell_type": "code",
   "execution_count": null,
   "metadata": {},
   "outputs": [],
   "source": []
  },
  {
   "cell_type": "code",
   "execution_count": null,
   "metadata": {},
   "outputs": [],
   "source": []
  }
 ],
 "metadata": {
  "kernelspec": {
   "display_name": "Python 3",
   "language": "python",
   "name": "python3"
  },
  "language_info": {
   "codemirror_mode": {
    "name": "ipython",
    "version": 3
   },
   "file_extension": ".py",
   "mimetype": "text/x-python",
   "name": "python",
   "nbconvert_exporter": "python",
   "pygments_lexer": "ipython3",
   "version": "3.6.4"
  }
 },
 "nbformat": 4,
 "nbformat_minor": 2
}
