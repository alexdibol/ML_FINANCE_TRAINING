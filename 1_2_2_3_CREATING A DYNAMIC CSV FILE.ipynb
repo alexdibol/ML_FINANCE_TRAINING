{
 "cells": [
  {
   "cell_type": "markdown",
   "metadata": {},
   "source": [
    " <h1><center> CREATING AN INTERACTIVE CSV FILE </center></h1>"
   ]
  },
  {
   "cell_type": "markdown",
   "metadata": {},
   "source": [
    "This is a useful set of instructions to create a csv data file that is updated every few seconds. This file is used as a proxy of a live data stream and should be run in parallel with the file of dynamic and animated plots."
   ]
  },
  {
   "cell_type": "code",
   "execution_count": null,
   "metadata": {},
   "outputs": [],
   "source": [
    "import csv\n",
    "import random\n",
    "import time\n",
    "\n",
    "def create_live_series():\n",
    "    \n",
    "    n=0\n",
    "    x_value = 0\n",
    "    total_1 = 1000\n",
    "    total_2 = 1000\n",
    "\n",
    "    fieldnames = [\"x_value\", \"total_1\", \"total_2\"]\n",
    "\n",
    "\n",
    "    with open('data.csv', 'w') as csv_file:\n",
    "        csv_writer = csv.DictWriter(csv_file, fieldnames=fieldnames)\n",
    "        csv_writer.writeheader()\n",
    "\n",
    "    #while True:\n",
    "    while n<500:\n",
    "\n",
    "        with open('data.csv', 'a') as csv_file:\n",
    "            csv_writer = csv.DictWriter(csv_file, fieldnames=fieldnames)\n",
    "\n",
    "            info = {\n",
    "                \"x_value\": x_value,\n",
    "                \"total_1\": total_1,\n",
    "                \"total_2\": total_2\n",
    "            }\n",
    "\n",
    "            csv_writer.writerow(info)\n",
    "            print(n,x_value, total_1, total_2)\n",
    "\n",
    "            n +=1\n",
    "            x_value += 1\n",
    "            total_1 = total_1 + random.randint(-6, 8)\n",
    "            total_2 = total_2 + random.randint(-5, 6)\n",
    "\n",
    "            time.sleep(1)"
   ]
  },
  {
   "cell_type": "code",
   "execution_count": null,
   "metadata": {},
   "outputs": [
    {
     "name": "stdout",
     "output_type": "stream",
     "text": [
      "0 0 1000 1000\n",
      "1 1 997 1004\n",
      "2 2 995 1001\n",
      "3 3 992 1002\n",
      "4 4 990 1001\n",
      "5 5 992 1001\n",
      "6 6 989 1002\n",
      "7 7 989 1001\n",
      "8 8 992 1005\n",
      "9 9 996 1006\n",
      "10 10 992 1004\n",
      "11 11 995 999\n",
      "12 12 1001 1004\n",
      "13 13 1007 1008\n",
      "14 14 1008 1009\n",
      "15 15 1010 1011\n",
      "16 16 1007 1012\n",
      "17 17 1013 1008\n",
      "18 18 1013 1008\n",
      "19 19 1014 1010\n",
      "20 20 1020 1011\n",
      "21 21 1025 1013\n",
      "22 22 1021 1008\n"
     ]
    }
   ],
   "source": [
    "create_live_series()"
   ]
  }
 ],
 "metadata": {
  "kernelspec": {
   "display_name": "Python 3",
   "language": "python",
   "name": "python3"
  },
  "language_info": {
   "codemirror_mode": {
    "name": "ipython",
    "version": 3
   },
   "file_extension": ".py",
   "mimetype": "text/x-python",
   "name": "python",
   "nbconvert_exporter": "python",
   "pygments_lexer": "ipython3",
   "version": "3.6.4"
  }
 },
 "nbformat": 4,
 "nbformat_minor": 2
}
