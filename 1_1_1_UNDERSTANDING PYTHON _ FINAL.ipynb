{
 "cells": [
  {
   "cell_type": "markdown",
   "metadata": {},
   "source": [
    "# UNDERSTANDING PYTHON IN 30 STEPS"
   ]
  },
  {
   "cell_type": "markdown",
   "metadata": {},
   "source": [
    "## 1. THE MOST BASIC CONCEPTS"
   ]
  },
  {
   "cell_type": "markdown",
   "metadata": {},
   "source": [
    "### 1.0. How to get help"
   ]
  },
  {
   "cell_type": "markdown",
   "metadata": {},
   "source": [
    "Before getting started, a very useful way of getting hints or help with Python in the Jupyter environment is by typing: ***Tab+Shift***."
   ]
  },
  {
   "cell_type": "markdown",
   "metadata": {},
   "source": [
    "### 1.1. Printing a Triangle"
   ]
  },
  {
   "cell_type": "code",
   "execution_count": null,
   "metadata": {},
   "outputs": [],
   "source": [
    "print(\"    /|\")\n",
    "print(\"   / |\")\n",
    "print(\"  /  |\")\n",
    "print(\" /___|\")"
   ]
  },
  {
   "cell_type": "markdown",
   "metadata": {},
   "source": [
    "We have different interfaces, with some of them we see directly the consol. In our case it will be printed directly.\n",
    "It is also very important to notice that the order of the isntructions matter a lot."
   ]
  },
  {
   "cell_type": "markdown",
   "metadata": {},
   "source": [
    "### 1.2. Variables and Data Types"
   ]
  },
  {
   "cell_type": "code",
   "execution_count": null,
   "metadata": {},
   "outputs": [],
   "source": [
    "print(\"There once ewas a man named George, \")\n",
    "print(\" he was 70 years old.\")\n",
    "print(\"He really liked the name George,\")\n",
    "print(\"but he did not like being 70.\")"
   ]
  },
  {
   "cell_type": "markdown",
   "metadata": {},
   "source": [
    "With Python we need to work a lot with data.\n",
    "Information must be contained somewhere.\n",
    "Variables are fundamental to that purpose.\n",
    "Variables need to know the type of data stored\n"
   ]
  },
  {
   "cell_type": "markdown",
   "metadata": {},
   "source": [
    "If we go back to the program and we need to change the name of the character we could do it one by one or we can let Python do dat via variables."
   ]
  },
  {
   "cell_type": "code",
   "execution_count": null,
   "metadata": {},
   "outputs": [],
   "source": [
    "print(\"There once ewas a man named John, \")\n",
    "print(\" he was 50 years old.\")\n",
    "print(\"He really liked the name John,\")\n",
    "print(\"but he did not like being 50.\")"
   ]
  },
  {
   "cell_type": "markdown",
   "metadata": {},
   "source": [
    "Create a variable. Python needs the name of the variable. We add a value to the variable. Variables are inserted in texts using the plus sign."
   ]
  },
  {
   "cell_type": "code",
   "execution_count": null,
   "metadata": {},
   "outputs": [],
   "source": [
    "character_name=\"John\"\n",
    "character_age=\"50\"\n",
    "print(\"There once ewas a man named \" + character_name + \",\")\n",
    "print(\"he was \" +character_age+ \" years old.\")\n",
    "print(\"He really liked the name \" + character_name+ \",\")\n",
    "print(\"but he did not like being \" +character_age+ \".\")"
   ]
  },
  {
   "cell_type": "markdown",
   "metadata": {},
   "source": [
    "Variables can be updated with ease,"
   ]
  },
  {
   "cell_type": "code",
   "execution_count": null,
   "metadata": {},
   "outputs": [],
   "source": [
    "character_name=\"John\"\n",
    "character_age=\"50\"\n",
    "print(\"There once ewas a man named \" + character_name + \",\")\n",
    "print(\"he was \" +character_age+ \" years old.\")\n",
    "character_name=\"Tom\"\n",
    "character_age=\"35\"\n",
    "print(\"He really liked the name \" + character_name+ \",\")\n",
    "print(\"but he did not like being \" +character_age+ \".\")"
   ]
  },
  {
   "cell_type": "markdown",
   "metadata": {},
   "source": [
    "#### Data Types"
   ]
  },
  {
   "cell_type": "markdown",
   "metadata": {},
   "source": [
    "In the previous exercise we stored strings. By putin ghem between quotes means a string. If we store a number we do not need strings. We can also have Boolean Values, which are True or False with capital letters and no quotes."
   ]
  },
  {
   "cell_type": "code",
   "execution_count": null,
   "metadata": {},
   "outputs": [],
   "source": [
    "character_name=\"John\"\n",
    "character_age=\"50.3124144\"\n",
    "is_male=True\n",
    "print(\"There once ewas a man named \" + character_name + \",\")\n",
    "print(\"he was \" + character_age +  \" years old.\")\n",
    "character_name=\"Tom\"\n",
    "character_age=\"21210.00211545\"\n",
    "print(\"He really liked the name \" + character_name+ \",\")\n",
    "print(\"but he did not like being \" +character_age+ \".\")"
   ]
  },
  {
   "cell_type": "markdown",
   "metadata": {},
   "source": [
    "## 2. WORKING WITH STRINGS"
   ]
  },
  {
   "cell_type": "code",
   "execution_count": null,
   "metadata": {},
   "outputs": [],
   "source": [
    "print(\"we can put whatever text we want\")"
   ]
  },
  {
   "cell_type": "code",
   "execution_count": null,
   "metadata": {},
   "outputs": [],
   "source": [
    "print(\"Giraffe Accademy\")"
   ]
  },
  {
   "cell_type": "code",
   "execution_count": null,
   "metadata": {},
   "outputs": [],
   "source": [
    "print(\"Giraffe\\nAcademy\")"
   ]
  },
  {
   "cell_type": "code",
   "execution_count": null,
   "metadata": {},
   "outputs": [],
   "source": [
    "print(\"Giraffe \\\"Academy\\\"\")"
   ]
  },
  {
   "cell_type": "markdown",
   "metadata": {},
   "source": [
    "Now we create a string variable."
   ]
  },
  {
   "cell_type": "code",
   "execution_count": null,
   "metadata": {},
   "outputs": [],
   "source": [
    "phrase = \"Giraffe Accademy\""
   ]
  },
  {
   "cell_type": "code",
   "execution_count": null,
   "metadata": {},
   "outputs": [],
   "source": [
    "print(phrase)"
   ]
  },
  {
   "cell_type": "markdown",
   "metadata": {},
   "source": [
    "Concatenation is with the plus sign."
   ]
  },
  {
   "cell_type": "code",
   "execution_count": null,
   "metadata": {},
   "outputs": [],
   "source": [
    "print(phrase+ \" is cool\")"
   ]
  },
  {
   "cell_type": "markdown",
   "metadata": {},
   "source": [
    "We can also create functions. The syntaxis is as follows"
   ]
  },
  {
   "cell_type": "code",
   "execution_count": null,
   "metadata": {},
   "outputs": [],
   "source": [
    "print(phrase.lower())"
   ]
  },
  {
   "cell_type": "code",
   "execution_count": null,
   "metadata": {},
   "outputs": [],
   "source": [
    "print(phrase.upper())"
   ]
  },
  {
   "cell_type": "code",
   "execution_count": null,
   "metadata": {},
   "outputs": [],
   "source": [
    "print(phrase.isupper())"
   ]
  },
  {
   "cell_type": "code",
   "execution_count": null,
   "metadata": {},
   "outputs": [],
   "source": [
    "print(phrase.upper().isupper())"
   ]
  },
  {
   "cell_type": "markdown",
   "metadata": {},
   "source": [
    "Note that the way in which the command runs is from left to right"
   ]
  },
  {
   "cell_type": "code",
   "execution_count": null,
   "metadata": {},
   "outputs": [],
   "source": [
    "len(phrase)"
   ]
  },
  {
   "cell_type": "markdown",
   "metadata": {},
   "source": [
    "Note that the command is rather different. One is a simple command to assign to a variable. The other syntaxis amounts to seeing a characteristic of an object. For example if we run the atrribute of the string we will notice that there is an error message. This explains why something is a function in strict sense and the other one an attribute of an object."
   ]
  },
  {
   "cell_type": "code",
   "execution_count": null,
   "metadata": {},
   "outputs": [],
   "source": [
    "# phrase.length()"
   ]
  },
  {
   "cell_type": "code",
   "execution_count": null,
   "metadata": {},
   "outputs": [],
   "source": [
    "phrase[0]"
   ]
  },
  {
   "cell_type": "markdown",
   "metadata": {},
   "source": [
    "We see again that the string is some sort of an array object, and we simply get access to a position in the array. This is an attrribute of the object."
   ]
  },
  {
   "cell_type": "markdown",
   "metadata": {},
   "source": [
    "NOTICE THAT **IN PYTHON AL ARRAYS ARE INDEXED FROM 0 ONWARDS** "
   ]
  },
  {
   "cell_type": "code",
   "execution_count": null,
   "metadata": {},
   "outputs": [],
   "source": [
    "phrase.index(\"G\")"
   ]
  },
  {
   "cell_type": "code",
   "execution_count": null,
   "metadata": {},
   "outputs": [],
   "source": [
    "phrase.index(\"f\")"
   ]
  },
  {
   "cell_type": "markdown",
   "metadata": {},
   "source": [
    "Note that the index corresponds to the place where the letter is first found.  There si also a way of affecting an attribute by using the word replace."
   ]
  },
  {
   "cell_type": "code",
   "execution_count": null,
   "metadata": {},
   "outputs": [],
   "source": [
    "phrase.replace(\"Giraffe\", \"Horse\")"
   ]
  },
  {
   "cell_type": "markdown",
   "metadata": {},
   "source": [
    "Google search with Strings with Python."
   ]
  },
  {
   "cell_type": "markdown",
   "metadata": {},
   "source": [
    "## 3. WORKING WITH NUMBERS"
   ]
  },
  {
   "cell_type": "code",
   "execution_count": null,
   "metadata": {},
   "outputs": [],
   "source": [
    "print(3)"
   ]
  },
  {
   "cell_type": "code",
   "execution_count": null,
   "metadata": {},
   "outputs": [],
   "source": [
    "print(2.987)"
   ]
  },
  {
   "cell_type": "code",
   "execution_count": null,
   "metadata": {},
   "outputs": [],
   "source": [
    "print(-2.8952)"
   ]
  },
  {
   "cell_type": "code",
   "execution_count": null,
   "metadata": {},
   "outputs": [],
   "source": [
    "print(3+4.5556)"
   ]
  },
  {
   "cell_type": "code",
   "execution_count": null,
   "metadata": {},
   "outputs": [],
   "source": [
    "print(2**3)"
   ]
  },
  {
   "cell_type": "code",
   "execution_count": null,
   "metadata": {},
   "outputs": [],
   "source": [
    "print(3*4+5)"
   ]
  },
  {
   "cell_type": "code",
   "execution_count": null,
   "metadata": {},
   "outputs": [],
   "source": [
    "print(3+(4+5))"
   ]
  },
  {
   "cell_type": "markdown",
   "metadata": {},
   "source": [
    "NOTE : FOR **MODUUS** ALGEBRA"
   ]
  },
  {
   "cell_type": "code",
   "execution_count": null,
   "metadata": {},
   "outputs": [],
   "source": [
    "print(10 % 3 )"
   ]
  },
  {
   "cell_type": "code",
   "execution_count": null,
   "metadata": {},
   "outputs": [],
   "source": [
    "a= 5"
   ]
  },
  {
   "cell_type": "code",
   "execution_count": null,
   "metadata": {},
   "outputs": [],
   "source": [
    "print(a)"
   ]
  },
  {
   "cell_type": "markdown",
   "metadata": {},
   "source": [
    "A very important function is conversion.\n",
    "We can convert a number into a string with a simple command."
   ]
  },
  {
   "cell_type": "code",
   "execution_count": null,
   "metadata": {},
   "outputs": [],
   "source": [
    "str(a)"
   ]
  },
  {
   "cell_type": "code",
   "execution_count": null,
   "metadata": {},
   "outputs": [],
   "source": [
    "print(str(a))"
   ]
  },
  {
   "cell_type": "code",
   "execution_count": null,
   "metadata": {},
   "outputs": [],
   "source": [
    "character_name=\"John\"\n",
    "character_age=50.12346421324\n",
    "is_male=True\n",
    "print(\"There once ewas a man named \" + character_name + \",\")\n",
    "print(\"he was \" + str(character_age) +  \" years old.\")\n",
    "character_name=\"Tom\"\n",
    "character_age=21210.00211545\n",
    "print(\"He really liked the name \" + character_name+ \",\")\n",
    "print(\"but he did not like being \" + str(character_age) + \".\")"
   ]
  },
  {
   "cell_type": "code",
   "execution_count": null,
   "metadata": {},
   "outputs": [],
   "source": [
    "print(abs(-5))"
   ]
  },
  {
   "cell_type": "code",
   "execution_count": null,
   "metadata": {},
   "outputs": [],
   "source": [
    "pow(5,10)"
   ]
  },
  {
   "cell_type": "code",
   "execution_count": null,
   "metadata": {},
   "outputs": [],
   "source": [
    "5**10"
   ]
  },
  {
   "cell_type": "markdown",
   "metadata": {},
   "source": [
    "NOTE THAT FOR POWER WE CAN NOT USE THE CIRCUNFLEX THAT IS MOS COMMONLY USED BY OTHER LANGUAGES"
   ]
  },
  {
   "cell_type": "code",
   "execution_count": null,
   "metadata": {},
   "outputs": [],
   "source": [
    "5^10"
   ]
  },
  {
   "cell_type": "code",
   "execution_count": null,
   "metadata": {},
   "outputs": [],
   "source": [
    "print(max(4,6))"
   ]
  },
  {
   "cell_type": "code",
   "execution_count": null,
   "metadata": {},
   "outputs": [],
   "source": [
    "print(min(4,6))"
   ]
  },
  {
   "cell_type": "code",
   "execution_count": null,
   "metadata": {},
   "outputs": [],
   "source": [
    "round(3.2)"
   ]
  },
  {
   "cell_type": "markdown",
   "metadata": {},
   "source": [
    "For more complex functions, we need to supplement the kernel with some ***imported*** packages. One large set of commands comes from the math module. The depository math is a module."
   ]
  },
  {
   "cell_type": "code",
   "execution_count": null,
   "metadata": {},
   "outputs": [],
   "source": [
    "from math import *"
   ]
  },
  {
   "cell_type": "code",
   "execution_count": null,
   "metadata": {},
   "outputs": [],
   "source": [
    "floor(3.7)"
   ]
  },
  {
   "cell_type": "code",
   "execution_count": null,
   "metadata": {},
   "outputs": [],
   "source": [
    "ceil(3.7)"
   ]
  },
  {
   "cell_type": "code",
   "execution_count": null,
   "metadata": {},
   "outputs": [],
   "source": [
    "sqrt(3.7)"
   ]
  },
  {
   "cell_type": "markdown",
   "metadata": {},
   "source": [
    "## 3. INTERACTIVE INPUT"
   ]
  },
  {
   "cell_type": "markdown",
   "metadata": {},
   "source": [
    "We start with using the input command. The information will go to a variable."
   ]
  },
  {
   "cell_type": "code",
   "execution_count": null,
   "metadata": {},
   "outputs": [],
   "source": [
    "name = input(\"Enter your name: \")\n",
    "age = input(\"Enter your age: \")\n",
    "print(\"Hello \" + name + \"!\")\n",
    "print(\"Your declared age is \" + age)"
   ]
  },
  {
   "cell_type": "code",
   "execution_count": null,
   "metadata": {},
   "outputs": [],
   "source": [
    "age"
   ]
  },
  {
   "cell_type": "markdown",
   "metadata": {},
   "source": [
    "Please **NOTE THAT ALL INPUTS, ARE TREATED AS STRINGS!**"
   ]
  },
  {
   "cell_type": "markdown",
   "metadata": {},
   "source": [
    "## 4. BUILDING A BASIC CALCULATOR"
   ]
  },
  {
   "cell_type": "markdown",
   "metadata": {},
   "source": [
    "num1 = input(\"Enter a number: \")\n",
    "num2 = input(\"Enter another number: \")\n",
    "result=num1 + num2\n",
    "print(result)"
   ]
  },
  {
   "cell_type": "markdown",
   "metadata": {},
   "source": [
    "Notice that in this example we are actually concatenating strings, not adding numbers"
   ]
  },
  {
   "cell_type": "code",
   "execution_count": null,
   "metadata": {},
   "outputs": [],
   "source": [
    "num1 = input(\"Enter a number: \")\n",
    "num2 = input(\"Enter another number: \")\n",
    "result=int(num1) + int(num2)\n",
    "print(result)"
   ]
  },
  {
   "cell_type": "markdown",
   "metadata": {},
   "source": [
    "We can use ***int()*** command, but this makes it an integer. But if we use a decimal the program will show an error."
   ]
  },
  {
   "cell_type": "code",
   "execution_count": null,
   "metadata": {},
   "outputs": [],
   "source": [
    "num1 = input(\"Enter a number: \")\n",
    "num2 = input(\"Enter another number: \")\n",
    "result=float(num1) + float(num2)\n",
    "print(result)"
   ]
  },
  {
   "cell_type": "markdown",
   "metadata": {},
   "source": [
    "Depending on the situation we can use an ***integer*** or a ***floating decimal number***"
   ]
  },
  {
   "cell_type": "markdown",
   "metadata": {},
   "source": [
    "## 5. MADLIBS GAME"
   ]
  },
  {
   "cell_type": "markdown",
   "metadata": {},
   "source": [
    "This is a game. We take random words and we insert them in a story.  We prepare the game with the following script. We will start creatin arrayrs"
   ]
  },
  {
   "cell_type": "code",
   "execution_count": null,
   "metadata": {},
   "outputs": [],
   "source": [
    "print(\"Roses are red\")\n",
    "print(\"Violets are blue\")\n",
    "print(\"I smell like a dunkey and you smell too...\")"
   ]
  },
  {
   "cell_type": "code",
   "execution_count": null,
   "metadata": {},
   "outputs": [],
   "source": [
    "color=input(\"Enter a color \")\n",
    "plural_noun=input(\"Enter a plural noun \")\n",
    "celebrity=input(\"Enter a Celebrity name \")\n",
    "print(\"Roses are \" + color)\n",
    "print(plural_noun + \" are blue\")\n",
    "print(\"I smell like a dunkey and \" + celebrity + \" smells too...\")"
   ]
  },
  {
   "cell_type": "markdown",
   "metadata": {},
   "source": [
    "## 6. LISTS WITH PYTHON"
   ]
  },
  {
   "cell_type": "markdown",
   "metadata": {},
   "source": [
    "We will deal with large amounts of data. We want to see how to handle such numbers and data.  Teh basics are as follows.\n",
    "Lists are created like a Python variable\n",
    "\n",
    "We will use a name. "
   ]
  },
  {
   "cell_type": "code",
   "execution_count": null,
   "metadata": {},
   "outputs": [],
   "source": [
    "friends =[\"Kevin\", \"Karen\", \"Jim\"]"
   ]
  },
  {
   "cell_type": "markdown",
   "metadata": {},
   "source": [
    "Inside we can have strings, numbers and other object.\n",
    "\n",
    "To access we can use the index, to use in the bracket\n"
   ]
  },
  {
   "cell_type": "code",
   "execution_count": null,
   "metadata": {},
   "outputs": [],
   "source": [
    "print(friends)"
   ]
  },
  {
   "cell_type": "code",
   "execution_count": null,
   "metadata": {},
   "outputs": [],
   "source": [
    "print(friends[1])"
   ]
  },
  {
   "cell_type": "code",
   "execution_count": null,
   "metadata": {},
   "outputs": [],
   "source": [
    "print (friends[0])"
   ]
  },
  {
   "cell_type": "markdown",
   "metadata": {},
   "source": [
    "Note that we start at cero for the list"
   ]
  },
  {
   "cell_type": "code",
   "execution_count": null,
   "metadata": {},
   "outputs": [],
   "source": [
    "print(friends[-1])"
   ]
  },
  {
   "cell_type": "code",
   "execution_count": null,
   "metadata": {},
   "outputs": [],
   "source": [
    "print(friends[1:])"
   ]
  },
  {
   "cell_type": "markdown",
   "metadata": {},
   "source": [
    "This takes the starting point until the end"
   ]
  },
  {
   "cell_type": "code",
   "execution_count": null,
   "metadata": {},
   "outputs": [],
   "source": [
    "friends =[\"Kevin\", \"Karen\", \"Jim\", \"Arthur\", \"Mathew\"]\n",
    "print(friends[1:])"
   ]
  },
  {
   "cell_type": "code",
   "execution_count": null,
   "metadata": {},
   "outputs": [],
   "source": [
    "friends =[\"Kevin\", \"Karen\", \"Jim\", \"Arthur\", \"Mathew\"]\n",
    "print(friends[1:3])"
   ]
  },
  {
   "cell_type": "markdown",
   "metadata": {},
   "source": [
    "We can modify elementos"
   ]
  },
  {
   "cell_type": "code",
   "execution_count": null,
   "metadata": {},
   "outputs": [],
   "source": [
    "friends[1]=\"Mike\""
   ]
  },
  {
   "cell_type": "code",
   "execution_count": null,
   "metadata": {},
   "outputs": [],
   "source": [
    "friends"
   ]
  },
  {
   "cell_type": "markdown",
   "metadata": {},
   "source": [
    "## 7. LIST FUNCTIONS"
   ]
  },
  {
   "cell_type": "markdown",
   "metadata": {},
   "source": [
    "We will see different ways to operate with lists.\n",
    "\n",
    "The first thing to do is to append two different lists. For such purpose we will use the **method** known as extend."
   ]
  },
  {
   "cell_type": "code",
   "execution_count": null,
   "metadata": {},
   "outputs": [],
   "source": [
    "lucky_numbers=[4,5,6,7,8,9,10]\n",
    "friends =[\"Kevin\", \"Karen\", \"Jim\", \"Arthur\", \"Mathew\"]"
   ]
  },
  {
   "cell_type": "code",
   "execution_count": null,
   "metadata": {},
   "outputs": [],
   "source": [
    "print(friends)\n",
    "print(lucky_numbers)"
   ]
  },
  {
   "cell_type": "code",
   "execution_count": null,
   "metadata": {},
   "outputs": [],
   "source": [
    "friends.extend(lucky_numbers)"
   ]
  },
  {
   "cell_type": "code",
   "execution_count": null,
   "metadata": {},
   "outputs": [],
   "source": [
    "print(friends)"
   ]
  },
  {
   "cell_type": "markdown",
   "metadata": {},
   "source": [
    "If we want to include an individual element, then we will use ***append*** at the end of the list"
   ]
  },
  {
   "cell_type": "code",
   "execution_count": null,
   "metadata": {},
   "outputs": [],
   "source": [
    "friends.append(\"Alex\")"
   ]
  },
  {
   "cell_type": "code",
   "execution_count": null,
   "metadata": {},
   "outputs": [],
   "source": [
    "friends"
   ]
  },
  {
   "cell_type": "markdown",
   "metadata": {},
   "source": [
    "If we want to introduce an element in la list, and this does not go to the end, then we will have to use the method ***insert***."
   ]
  },
  {
   "cell_type": "code",
   "execution_count": null,
   "metadata": {},
   "outputs": [],
   "source": [
    "friends.insert(1,\"Martin\")"
   ]
  },
  {
   "cell_type": "code",
   "execution_count": null,
   "metadata": {},
   "outputs": [],
   "source": [
    "friends"
   ]
  },
  {
   "cell_type": "markdown",
   "metadata": {},
   "source": [
    "we can remove, using  ***remove***"
   ]
  },
  {
   "cell_type": "code",
   "execution_count": null,
   "metadata": {},
   "outputs": [],
   "source": [
    "friends.remove(\"Jim\")"
   ]
  },
  {
   "cell_type": "code",
   "execution_count": null,
   "metadata": {},
   "outputs": [],
   "source": [
    "friends"
   ]
  },
  {
   "cell_type": "markdown",
   "metadata": {},
   "source": [
    "We can also remove all elements of a list, by using the method ***clear***."
   ]
  },
  {
   "cell_type": "code",
   "execution_count": null,
   "metadata": {},
   "outputs": [],
   "source": [
    "friends.clear()"
   ]
  },
  {
   "cell_type": "code",
   "execution_count": null,
   "metadata": {},
   "outputs": [],
   "source": [
    "friends"
   ]
  },
  {
   "cell_type": "code",
   "execution_count": null,
   "metadata": {},
   "outputs": [],
   "source": [
    "lucky_numbers=[4,5,6,7,8,9,10]\n",
    "friends =[\"Kevin\", \"Karen\", \"Jim\", \"Arthur\", \"Mathew\"]"
   ]
  },
  {
   "cell_type": "code",
   "execution_count": null,
   "metadata": {},
   "outputs": [],
   "source": [
    "friends.pop()"
   ]
  },
  {
   "cell_type": "markdown",
   "metadata": {},
   "source": [
    "The previous command brings about the last element of the list and deletes it."
   ]
  },
  {
   "cell_type": "code",
   "execution_count": null,
   "metadata": {},
   "outputs": [],
   "source": [
    "friends"
   ]
  },
  {
   "cell_type": "code",
   "execution_count": null,
   "metadata": {},
   "outputs": [],
   "source": [
    "friends.index(\"Kevin\")"
   ]
  },
  {
   "cell_type": "code",
   "execution_count": null,
   "metadata": {},
   "outputs": [],
   "source": [
    "friends =[\"Kevin\", \"Karen\", \"Jim\", \"Arthur\", \"Mathew\", \"Jim\"]\n",
    "friends.count(\"Jim\")"
   ]
  },
  {
   "cell_type": "markdown",
   "metadata": {},
   "source": [
    "we can sort the elements of a list"
   ]
  },
  {
   "cell_type": "code",
   "execution_count": null,
   "metadata": {},
   "outputs": [],
   "source": [
    "friends.sort()\n",
    "friends"
   ]
  },
  {
   "cell_type": "code",
   "execution_count": null,
   "metadata": {},
   "outputs": [],
   "source": [
    "lucky_numbers.sort()\n",
    "lucky_numbers"
   ]
  },
  {
   "cell_type": "code",
   "execution_count": null,
   "metadata": {},
   "outputs": [],
   "source": [
    "lucky_numbers.reverse()\n",
    "lucky_numbers"
   ]
  },
  {
   "cell_type": "code",
   "execution_count": null,
   "metadata": {},
   "outputs": [],
   "source": [
    "friends2=friends.copy()"
   ]
  },
  {
   "cell_type": "code",
   "execution_count": null,
   "metadata": {},
   "outputs": [],
   "source": [
    "friends2"
   ]
  },
  {
   "cell_type": "markdown",
   "metadata": {},
   "source": [
    "## 8. TUPLES"
   ]
  },
  {
   "cell_type": "markdown",
   "metadata": {},
   "source": [
    "Very similar to list.\n",
    "\n",
    "We can have different types of objects inside\n",
    "\n",
    "A clear example is coordinates"
   ]
  },
  {
   "cell_type": "code",
   "execution_count": null,
   "metadata": {},
   "outputs": [],
   "source": [
    "coordinates=(4,5)"
   ]
  },
  {
   "cell_type": "code",
   "execution_count": null,
   "metadata": {},
   "outputs": [],
   "source": [
    "coordinates"
   ]
  },
  {
   "cell_type": "markdown",
   "metadata": {},
   "source": [
    "*** A tuple can not be modifyied***"
   ]
  },
  {
   "cell_type": "code",
   "execution_count": null,
   "metadata": {},
   "outputs": [],
   "source": [
    "print(coordinates[1])"
   ]
  },
  {
   "cell_type": "code",
   "execution_count": null,
   "metadata": {},
   "outputs": [],
   "source": [
    "print(coordinates[0])"
   ]
  },
  {
   "cell_type": "markdown",
   "metadata": {},
   "source": [
    "Differences with tuples.  A list has the brackets and can be edited and modifyied at will.  The tuplet is not mutable.  This is for data that will not change. "
   ]
  },
  {
   "cell_type": "code",
   "execution_count": null,
   "metadata": {},
   "outputs": [],
   "source": [
    "list_coordinates=[(1,2), (1,3)]"
   ]
  },
  {
   "cell_type": "code",
   "execution_count": null,
   "metadata": {},
   "outputs": [],
   "source": [
    "print(list_coordinates)"
   ]
  },
  {
   "cell_type": "markdown",
   "metadata": {},
   "source": [
    "## 9. FUNCTIONS"
   ]
  },
  {
   "cell_type": "markdown",
   "metadata": {},
   "source": [
    "A better way to collect code. Create a function that salutes the user.\n",
    "\n",
    "The structure is the name, parenthesis and collon.\n",
    "The code ***needs to be idented***.\n",
    "If not indented then it is not considered to be part of the function\n"
   ]
  },
  {
   "cell_type": "code",
   "execution_count": null,
   "metadata": {},
   "outputs": [],
   "source": [
    "def say_hi():\n",
    "    print(\"Hello World\")\n",
    "    "
   ]
  },
  {
   "cell_type": "code",
   "execution_count": null,
   "metadata": {},
   "outputs": [],
   "source": [
    "say_hi()"
   ]
  },
  {
   "cell_type": "markdown",
   "metadata": {},
   "source": [
    "The running of the instructions will require to call the function. The action of writting the function is referred as calling."
   ]
  },
  {
   "cell_type": "code",
   "execution_count": null,
   "metadata": {},
   "outputs": [],
   "source": [
    "def elementary_addition(a,b):\n",
    "    print(a+b)"
   ]
  },
  {
   "cell_type": "code",
   "execution_count": null,
   "metadata": {},
   "outputs": [],
   "source": [
    "elementary_addition(2,3)"
   ]
  },
  {
   "cell_type": "markdown",
   "metadata": {},
   "source": [
    "We can introduce some parameters. It will be easier to go with as many parameters as needed."
   ]
  },
  {
   "cell_type": "code",
   "execution_count": null,
   "metadata": {},
   "outputs": [],
   "source": [
    "def say_hello(name):\n",
    "    print(\"hello \"+ name)\n",
    "    "
   ]
  },
  {
   "cell_type": "code",
   "execution_count": null,
   "metadata": {},
   "outputs": [],
   "source": [
    "say_hello(\"Alex\")\n",
    "say_hello(\"Mike\")"
   ]
  },
  {
   "cell_type": "code",
   "execution_count": null,
   "metadata": {},
   "outputs": [],
   "source": [
    "def say_hello(name, age):\n",
    "    print(\"hello \"+ name + \", you are \"+ age )"
   ]
  },
  {
   "cell_type": "code",
   "execution_count": null,
   "metadata": {},
   "outputs": [],
   "source": [
    "say_hello(\"Alex\", \"58\")"
   ]
  },
  {
   "cell_type": "markdown",
   "metadata": {},
   "source": [
    "Functions take ***numbers as defaults***"
   ]
  },
  {
   "cell_type": "markdown",
   "metadata": {},
   "source": [
    "## 10. THE RETURN STATEMENT"
   ]
  },
  {
   "cell_type": "markdown",
   "metadata": {},
   "source": [
    "A Python function is a collection of instructions.\n",
    "\n",
    "We call a function and we will execute it.\n",
    "\n",
    "However, sometimes we want to get some information back.\n",
    "\n"
   ]
  },
  {
   "cell_type": "code",
   "execution_count": null,
   "metadata": {},
   "outputs": [],
   "source": [
    "def cube_it(a):\n",
    "    a*a*a"
   ]
  },
  {
   "cell_type": "code",
   "execution_count": null,
   "metadata": {},
   "outputs": [],
   "source": [
    "print(cube_it(2))"
   ]
  },
  {
   "cell_type": "markdown",
   "metadata": {},
   "source": [
    "Notice that in the case of numbers it does nothing. For numbers we will need to use the RETURN"
   ]
  },
  {
   "cell_type": "code",
   "execution_count": null,
   "metadata": {},
   "outputs": [],
   "source": [
    "def cube_it(a):\n",
    "    return(a*a*a)"
   ]
  },
  {
   "cell_type": "code",
   "execution_count": null,
   "metadata": {},
   "outputs": [],
   "source": [
    "cube_it(3)"
   ]
  },
  {
   "cell_type": "code",
   "execution_count": null,
   "metadata": {},
   "outputs": [],
   "source": [
    "result=cube_it(4)"
   ]
  },
  {
   "cell_type": "code",
   "execution_count": null,
   "metadata": {},
   "outputs": [],
   "source": [
    "print(result)"
   ]
  },
  {
   "cell_type": "markdown",
   "metadata": {},
   "source": [
    "The ***return*** declaration will interrupt the process of the function."
   ]
  },
  {
   "cell_type": "markdown",
   "metadata": {},
   "source": [
    "## 11. IF AND ELIF STATEMENTS: OR/NOT/AND"
   ]
  },
  {
   "cell_type": "markdown",
   "metadata": {},
   "source": [
    "We can create first a Boolean variable"
   ]
  },
  {
   "cell_type": "code",
   "execution_count": null,
   "metadata": {},
   "outputs": [],
   "source": [
    "is_male=True"
   ]
  },
  {
   "cell_type": "code",
   "execution_count": null,
   "metadata": {},
   "outputs": [],
   "source": [
    " if is_male:\n",
    "        print(\"you are a male \")"
   ]
  },
  {
   "cell_type": "code",
   "execution_count": null,
   "metadata": {},
   "outputs": [],
   "source": [
    "is_male=False"
   ]
  },
  {
   "cell_type": "code",
   "execution_count": null,
   "metadata": {},
   "outputs": [],
   "source": [
    "if is_male:\n",
    "    print(\"you are a male \")\n",
    "else:\n",
    "    print(\"You are not a male\")"
   ]
  },
  {
   "cell_type": "markdown",
   "metadata": {},
   "source": [
    "PLEASE NOTE THE SEQUENCE: Both if and else are followed by a ***semi collon***."
   ]
  },
  {
   "cell_type": "code",
   "execution_count": null,
   "metadata": {},
   "outputs": [],
   "source": [
    "is_male=True\n",
    "is_tall=True\n",
    "\n",
    "if is_male or is_tall:\n",
    "    print(\"you are either male or tall or both \")\n",
    "else:\n",
    "    print(\"You are neither male nor tall\")\n"
   ]
  },
  {
   "cell_type": "code",
   "execution_count": null,
   "metadata": {},
   "outputs": [],
   "source": [
    "is_male=False\n",
    "is_tall=False\n",
    "\n",
    "if is_male or is_tall:\n",
    "    print(\"you are either male or tall or both \")\n",
    "else:\n",
    "    print(\"You are neither male nor tall\")\n"
   ]
  },
  {
   "cell_type": "code",
   "execution_count": null,
   "metadata": {},
   "outputs": [],
   "source": [
    "is_male=True\n",
    "is_tall=False\n",
    "\n",
    "if is_male and is_tall:\n",
    "    print(\"you are either male and tall\")\n",
    "else:\n",
    "    print(\"You are either not male or tall or both\")\n"
   ]
  },
  {
   "cell_type": "code",
   "execution_count": null,
   "metadata": {},
   "outputs": [],
   "source": [
    "not(is_tall)"
   ]
  },
  {
   "cell_type": "code",
   "execution_count": null,
   "metadata": {},
   "outputs": [],
   "source": [
    "is_male=False\n",
    "is_tall=True\n",
    "\n",
    "if is_male and is_tall:\n",
    "    print(\"You are a tall man\")\n",
    "elif is_male and not(is_tall):\n",
    "    print(\"You are a short man\")\n",
    "elif not(is_male) and is_tall:\n",
    "    print(\"You are a tall female\")\n",
    "else:\n",
    "    print(\"You are a short woman\")"
   ]
  },
  {
   "cell_type": "markdown",
   "metadata": {},
   "source": [
    "## 12. MORE ON FUNCTIONS: ***comparison exercise***"
   ]
  },
  {
   "cell_type": "markdown",
   "metadata": {},
   "source": [
    "We want to compare three numbers and obtain the largest of them.\n",
    "\n"
   ]
  },
  {
   "cell_type": "code",
   "execution_count": null,
   "metadata": {},
   "outputs": [],
   "source": [
    "def max_num(num1,num2,num3):\n",
    "    if num1>=num2 and num>=num3: \n",
    "        return(num1)\n",
    "    elif num2>=num3:\n",
    "        return(num2)\n",
    "    else:\n",
    "        return(num3)"
   ]
  },
  {
   "cell_type": "code",
   "execution_count": null,
   "metadata": {},
   "outputs": [],
   "source": [
    "max_num(10,12,13)"
   ]
  },
  {
   "cell_type": "code",
   "execution_count": null,
   "metadata": {},
   "outputs": [],
   "source": [
    "max_num(2390082,4897987980,1)"
   ]
  },
  {
   "cell_type": "markdown",
   "metadata": {},
   "source": [
    "## 13. COMBINING INPUT PROMPT,  FUNCTIONS AND CONDITIONALS"
   ]
  },
  {
   "cell_type": "code",
   "execution_count": null,
   "metadata": {},
   "outputs": [],
   "source": [
    "num1=input(\"Enter first number: \")\n",
    "num2=input(\"Enter second number: \")\n",
    "num3=input(\"Enter thrid number: \")\n",
    "\n",
    "print(\"The largest number is: \"+ str(max_num(num1,num2,num3)))"
   ]
  },
  {
   "cell_type": "markdown",
   "metadata": {},
   "source": [
    "We got lucky with respect to using inputs. However, it is generally the case that the input gets a string and we need a float.\n",
    "\n",
    "The reason is that when using compariosons, Python assumed they were numbers.\n",
    "\n",
    "However, this is against the proper etiquete on how to create functions."
   ]
  },
  {
   "cell_type": "code",
   "execution_count": null,
   "metadata": {},
   "outputs": [],
   "source": [
    "num1=float(input(\"Enter first number: \"))\n",
    "num2=input(\"Enter second number: \")\n",
    "num3=input(\"Enter thrid number: \")"
   ]
  },
  {
   "cell_type": "code",
   "execution_count": null,
   "metadata": {},
   "outputs": [],
   "source": [
    "print(type(num1))\n",
    "print(type(num2))"
   ]
  },
  {
   "cell_type": "markdown",
   "metadata": {},
   "source": [
    "We can see this above."
   ]
  },
  {
   "cell_type": "code",
   "execution_count": null,
   "metadata": {},
   "outputs": [],
   "source": [
    "num1=float(input(\"Enter first number: \"))\n",
    "num2=float(input(\"Enter second number: \"))\n",
    "num3=float(input(\"Enter thrid number: \"))"
   ]
  },
  {
   "cell_type": "code",
   "execution_count": null,
   "metadata": {},
   "outputs": [],
   "source": [
    "print(type(num1))\n",
    "print(type(num2))\n",
    "print(type(num3))"
   ]
  },
  {
   "cell_type": "markdown",
   "metadata": {},
   "source": [
    "## 14. A SIMPLE CALCULATOR : ***ERROR MESSAGES***"
   ]
  },
  {
   "cell_type": "code",
   "execution_count": null,
   "metadata": {},
   "outputs": [],
   "source": [
    "num1=float(input(\"Enter first number: \"))\n",
    "op=input(\"Enter an operator: \")\n",
    "num2=float(input(\"Enter second number: \"))\n",
    "\n",
    "if op == \"+\":\n",
    "    print(num1+num2)\n",
    "elif op==\"-\":\n",
    "    print(num1-num2)\n",
    "elif op==\"x\":\n",
    "    print(num1*num2)\n",
    "elif op== \"/\":\n",
    "    print(num1/num2)\n",
    "else:\n",
    "    print(\"invalid operator\")    "
   ]
  },
  {
   "cell_type": "markdown",
   "metadata": {},
   "source": [
    "## 15. DICTIONARIES"
   ]
  },
  {
   "cell_type": "markdown",
   "metadata": {},
   "source": [
    "**SPECIAL STRUCTURE**\n",
    "\n",
    "**TO STORE VALUES**\n",
    "\n",
    "**IN KEY VALUE PAIRS**\n",
    "\n",
    "If we want to access one of the values od the pair we can make reference to the other. In a normal dictionary we have the word and then we have the definition of such word.\n",
    "\n",
    "In a pair, the first element is nthe word and the second corresponds to que definition.\n",
    "\n",
    "** WE USE A CURLY BRACKET** \n",
    "\n",
    "*** elements will have to be separated by commas***.\n",
    "\n",
    "We are going to consider this an object. Methods are used to deal with these objects. One of the methods would be to use the word ***get***. Notice that using this helps in the context of default of missing elements in a dictionary. The use of this method will generate a **none** output when the value pair is missing.\n"
   ]
  },
  {
   "cell_type": "code",
   "execution_count": null,
   "metadata": {},
   "outputs": [],
   "source": [
    "monthConversions={\n",
    "    \"Jan\":\"January\",\n",
    "    \"Feb\":\"February\",\n",
    "    \"Mar\":\"March\",\n",
    "    \"Apr\":\"April\",\n",
    "    \"May\":\"May\",\n",
    "    \"Jun\":\"June\",\n",
    "    \"Jul\":\"July\",\n",
    "    \"Aug\":\"August\",\n",
    "    \"Sep\":\"September\",\n",
    "    \"Oct\":\"October\",\n",
    "    \"Nov\":\"November\",\n",
    "    \"Dec\":\"December\",\n",
    "}"
   ]
  },
  {
   "cell_type": "code",
   "execution_count": null,
   "metadata": {},
   "outputs": [],
   "source": [
    "print(monthConversions[\"Mar\"])"
   ]
  },
  {
   "cell_type": "code",
   "execution_count": null,
   "metadata": {},
   "outputs": [],
   "source": [
    "monthConversions.get(\"Dec\")"
   ]
  },
  {
   "cell_type": "code",
   "execution_count": null,
   "metadata": {},
   "outputs": [],
   "source": [
    "print(monthConversions.get(\"Luv\"))"
   ]
  },
  {
   "cell_type": "markdown",
   "metadata": {},
   "source": [
    "Notice that we can use numbers or strings."
   ]
  },
  {
   "cell_type": "code",
   "execution_count": null,
   "metadata": {},
   "outputs": [],
   "source": [
    "monthConversions={\n",
    "    1:\"January\",\n",
    "    2:\"February\",\n",
    "    3:\"March\",\n",
    "    \"Apr\":\"April\",\n",
    "    \"May\":\"May\",\n",
    "    \"Jun\":\"June\",\n",
    "    \"Jul\":\"July\",\n",
    "    \"Aug\":\"August\",\n",
    "    \"Sep\":\"September\",\n",
    "    \"Oct\":\"October\",\n",
    "    \"Nov\":\"November\",\n",
    "    \"Dec\":\"December\",\n",
    "}"
   ]
  },
  {
   "cell_type": "code",
   "execution_count": null,
   "metadata": {},
   "outputs": [],
   "source": [
    "print(monthConversions.get(1))"
   ]
  },
  {
   "cell_type": "markdown",
   "metadata": {},
   "source": [
    "## 16. WHILE LOOPS"
   ]
  },
  {
   "cell_type": "code",
   "execution_count": null,
   "metadata": {},
   "outputs": [],
   "source": [
    "i=1\n",
    "while i<=10:\n",
    "    print(i)\n",
    "    i=i+1\n",
    "print(\"Done with loop\")"
   ]
  },
  {
   "cell_type": "code",
   "execution_count": null,
   "metadata": {},
   "outputs": [],
   "source": [
    "i=1\n",
    "while i<=10:\n",
    "    print(i)\n",
    "    i+=1\n",
    "print(\"Done with loop\")"
   ]
  },
  {
   "cell_type": "markdown",
   "metadata": {},
   "source": [
    "notice that we could use the **+=** to add in a loop. This is a very commonly used shorthand"
   ]
  },
  {
   "cell_type": "markdown",
   "metadata": {},
   "source": [
    "## 16. THE GUESSING GAME"
   ]
  },
  {
   "cell_type": "code",
   "execution_count": null,
   "metadata": {},
   "outputs": [],
   "source": [
    "secret_word= \"giraffe\"\n",
    "guess=\"\"\n",
    "guess_count=0\n",
    "guess_limit=3\n",
    "out_of_guesses=False\n",
    "\n",
    "while guess != secret_word and not(out_of_guesses):\n",
    "    if guess_count < guess_limit:\n",
    "        guess=input(\"Enter your guess: \")\n",
    "        guess_count +=1\n",
    "    else: \n",
    "        out_of_guesses=True\n",
    "        \n",
    "if out_of_guesses:\n",
    "    print(\"You ran out of trial chances\")\n",
    "else:\n",
    "    print(\"You win!\")\n",
    "    "
   ]
  },
  {
   "cell_type": "markdown",
   "metadata": {},
   "source": [
    "## 17. FOR LOOP"
   ]
  },
  {
   "cell_type": "code",
   "execution_count": null,
   "metadata": {},
   "outputs": [],
   "source": [
    "friends = [\"Jim\", \"Karen\", \"Kevin\" ]\n",
    "for index in range(10):\n",
    "    print(index)\n",
    "    \n"
   ]
  },
  {
   "cell_type": "code",
   "execution_count": null,
   "metadata": {},
   "outputs": [],
   "source": [
    "friends = [\"Jim\", \"Karen\", \"Kevin\" ]\n",
    "for index in range(len(friends)):\n",
    "    print(friends[index])"
   ]
  },
  {
   "cell_type": "markdown",
   "metadata": {},
   "source": [
    "## 18. A FUNCTION FOR RAISING A CERTAIN POWER"
   ]
  },
  {
   "cell_type": "code",
   "execution_count": null,
   "metadata": {},
   "outputs": [],
   "source": [
    "def raise_to_power(base_number, power_number):\n",
    "    result=1\n",
    "    for index in range(power_number):\n",
    "        result= result * base_number\n",
    "    return result\n",
    "    "
   ]
  },
  {
   "cell_type": "code",
   "execution_count": null,
   "metadata": {},
   "outputs": [],
   "source": [
    "print(raise_to_power(2,3))"
   ]
  },
  {
   "cell_type": "markdown",
   "metadata": {},
   "source": [
    "## 19. TWO DIMENSIONAL ARRAYS. NESTED LOOPS"
   ]
  },
  {
   "cell_type": "markdown",
   "metadata": {},
   "source": [
    "We will create a grid, or a  ***matrix*** by using nested structures.\n"
   ]
  },
  {
   "cell_type": "code",
   "execution_count": null,
   "metadata": {},
   "outputs": [],
   "source": [
    "number_grid =[\n",
    "    [1,2,3,4],\n",
    "    [5,6,7,8],\n",
    "    [9,10,11,12],\n",
    "    [0]\n",
    "]"
   ]
  },
  {
   "cell_type": "code",
   "execution_count": null,
   "metadata": {},
   "outputs": [],
   "source": [
    "number_grid"
   ]
  },
  {
   "cell_type": "code",
   "execution_count": null,
   "metadata": {},
   "outputs": [],
   "source": [
    "number_grid[1]"
   ]
  },
  {
   "cell_type": "code",
   "execution_count": null,
   "metadata": {},
   "outputs": [],
   "source": [
    "number_grid[2]"
   ]
  },
  {
   "cell_type": "markdown",
   "metadata": {},
   "source": [
    "In order to get a particular element in a nested grid we need two brackets. In each one of the brackets we can put the corresponding index in the array."
   ]
  },
  {
   "cell_type": "code",
   "execution_count": null,
   "metadata": {},
   "outputs": [],
   "source": [
    "number_grid[0][2]"
   ]
  },
  {
   "cell_type": "code",
   "execution_count": null,
   "metadata": {},
   "outputs": [],
   "source": [
    "for row in number_grid:\n",
    "    print(row)"
   ]
  },
  {
   "cell_type": "code",
   "execution_count": null,
   "metadata": {},
   "outputs": [],
   "source": [
    "for row in number_grid:\n",
    "    for col in row:\n",
    "        print(col)"
   ]
  },
  {
   "cell_type": "markdown",
   "metadata": {},
   "source": [
    "Notice that Python goes a bit more intuitive than other languages.\n",
    "It has the intuition to contextualize the object that we have in our hands and creates the object that corresponds to the attribute of the object.\n",
    "\n",
    "this is why we do not have to create the column or row variables, since they are inferred in the context of the for loop."
   ]
  },
  {
   "cell_type": "markdown",
   "metadata": {},
   "source": [
    "### 20. BUILDING A CODING MACHINE"
   ]
  },
  {
   "cell_type": "markdown",
   "metadata": {},
   "source": [
    "The idea is to create a language where we subsitute all vowals wit the letter g"
   ]
  },
  {
   "cell_type": "code",
   "execution_count": 1,
   "metadata": {},
   "outputs": [],
   "source": [
    "def translate(phrase):\n",
    "    translation=\"\"\n",
    "    for letter in phrase:\n",
    "        if letter in \"AEIOUaeiou\":\n",
    "            translation =translation + \"g\"\n",
    "        else:\n",
    "            translation= translation + letter\n",
    "    return translation\n",
    "    "
   ]
  },
  {
   "cell_type": "code",
   "execution_count": 2,
   "metadata": {},
   "outputs": [
    {
     "data": {
      "text/plain": [
       "'nggvg'"
      ]
     },
     "execution_count": 2,
     "metadata": {},
     "output_type": "execute_result"
    }
   ],
   "source": [
    "translate(\"nuevo\")"
   ]
  },
  {
   "cell_type": "code",
   "execution_count": 3,
   "metadata": {},
   "outputs": [
    {
     "data": {
      "text/plain": [
       "'Mgxgcg'"
      ]
     },
     "execution_count": 3,
     "metadata": {},
     "output_type": "execute_result"
    }
   ],
   "source": [
    "translate(\"Mexico\")\n"
   ]
  },
  {
   "cell_type": "code",
   "execution_count": 4,
   "metadata": {},
   "outputs": [],
   "source": [
    "palabra=\"The following word\""
   ]
  },
  {
   "cell_type": "code",
   "execution_count": 5,
   "metadata": {},
   "outputs": [
    {
     "data": {
      "text/plain": [
       "<function str.lower>"
      ]
     },
     "execution_count": 5,
     "metadata": {},
     "output_type": "execute_result"
    }
   ],
   "source": [
    "palabra.lower"
   ]
  },
  {
   "cell_type": "code",
   "execution_count": 6,
   "metadata": {},
   "outputs": [
    {
     "data": {
      "text/plain": [
       "'the following word'"
      ]
     },
     "execution_count": 6,
     "metadata": {},
     "output_type": "execute_result"
    }
   ],
   "source": [
    "palabra.lower()"
   ]
  },
  {
   "cell_type": "markdown",
   "metadata": {},
   "source": [
    "We can see that we can apply a method to a string and get only the lowercase letters."
   ]
  },
  {
   "cell_type": "code",
   "execution_count": 9,
   "metadata": {},
   "outputs": [],
   "source": [
    "def translate(phrase):\n",
    "    translation=\"\"\n",
    "    for letter in phrase:\n",
    "        if letter.lower() in \"aeiou\":\n",
    "            if letter.isupper():\n",
    "                translation =translation + \"G\"\n",
    "            else:\n",
    "                 translation=translation + \"g\"   \n",
    "        else:\n",
    "            translation= translation + letter\n",
    "    return translation"
   ]
  },
  {
   "cell_type": "code",
   "execution_count": 10,
   "metadata": {},
   "outputs": [
    {
     "data": {
      "text/plain": [
       "'Mgxgcg'"
      ]
     },
     "execution_count": 10,
     "metadata": {},
     "output_type": "execute_result"
    }
   ],
   "source": [
    "translate(\"Mexico\")"
   ]
  },
  {
   "cell_type": "code",
   "execution_count": 11,
   "metadata": {},
   "outputs": [
    {
     "data": {
      "text/plain": [
       "'Gklghgmg'"
      ]
     },
     "execution_count": 11,
     "metadata": {},
     "output_type": "execute_result"
    }
   ],
   "source": [
    "translate(\"Oklahoma\")"
   ]
  },
  {
   "cell_type": "markdown",
   "metadata": {},
   "source": [
    "## 21. WRITTING COMMENTS WITH PYTHON"
   ]
  },
  {
   "cell_type": "code",
   "execution_count": 12,
   "metadata": {},
   "outputs": [
    {
     "name": "stdout",
     "output_type": "stream",
     "text": [
      "COMMENTS ARE FUN\n"
     ]
    }
   ],
   "source": [
    "print(\"COMMENTS ARE FUN\")"
   ]
  },
  {
   "cell_type": "markdown",
   "metadata": {},
   "source": [
    "A comment is only a line of coding that is idle.\n",
    "\n",
    "It is used to better understand the reasons and the meaning of a given line of code."
   ]
  },
  {
   "cell_type": "code",
   "execution_count": 15,
   "metadata": {},
   "outputs": [
    {
     "name": "stdout",
     "output_type": "stream",
     "text": [
      "Hello world\n"
     ]
    }
   ],
   "source": [
    "#  We will try the simplest Python code\n",
    "print(\"Hello world\")"
   ]
  },
  {
   "cell_type": "markdown",
   "metadata": {},
   "source": [
    "It can also be done with a triple quotation mark or triple comma."
   ]
  },
  {
   "cell_type": "code",
   "execution_count": 16,
   "metadata": {},
   "outputs": [
    {
     "name": "stdout",
     "output_type": "stream",
     "text": [
      "Hello world\n"
     ]
    }
   ],
   "source": [
    ",,, We will try the simplest Python code\n",
    "print(\"Hello world\")"
   ]
  },
  {
   "cell_type": "markdown",
   "metadata": {},
   "source": [
    "### 22. CATCHING ERRORS IN PYTHON"
   ]
  },
  {
   "cell_type": "code",
   "execution_count": 1,
   "metadata": {},
   "outputs": [
    {
     "name": "stdout",
     "output_type": "stream",
     "text": [
      "Enter a Number: dkljlasdjfla;kdj\n",
      "Invalid input\n"
     ]
    }
   ],
   "source": [
    "try:\n",
    "    number=int(input(\"Enter a Number: \"))\n",
    "    print(number)\n",
    "except:\n",
    "    print(\"Invalid input\")"
   ]
  },
  {
   "cell_type": "markdown",
   "metadata": {},
   "source": [
    "A typical error is that instead of introducing a number we introduce a phrase. This eliminates the problem of breaking the program for any reason. The try will allow us to catch some specific problems \n"
   ]
  },
  {
   "cell_type": "code",
   "execution_count": 8,
   "metadata": {},
   "outputs": [
    {
     "name": "stdout",
     "output_type": "stream",
     "text": [
      "Divided by zero\n"
     ]
    }
   ],
   "source": [
    "try:\n",
    "    value= 10/0\n",
    "except ZeroDivisionError:\n",
    "    print(\"Divided by zero\")"
   ]
  },
  {
   "cell_type": "markdown",
   "metadata": {},
   "source": [
    "Then, we can inspect the kind of error that we get and then try to catch it\n",
    "\n",
    "Now we can combine both"
   ]
  },
  {
   "cell_type": "code",
   "execution_count": 10,
   "metadata": {},
   "outputs": [
    {
     "name": "stdout",
     "output_type": "stream",
     "text": [
      "Enter a Number: lkdjfja;\n",
      "Invalid input\n"
     ]
    }
   ],
   "source": [
    "try:\n",
    "    number=int(input(\"Enter a Number: \"))\n",
    "    print(number)\n",
    "except ValueError:\n",
    "    print(\"Invalid input\")\n",
    "except ZeroDivisionError:\n",
    "    print(\"Division by zero\")"
   ]
  },
  {
   "cell_type": "code",
   "execution_count": 12,
   "metadata": {},
   "outputs": [
    {
     "name": "stdout",
     "output_type": "stream",
     "text": [
      "Division by zero\n"
     ]
    }
   ],
   "source": [
    "try:\n",
    "    value=10/0\n",
    "    number=int(input(\"Enter a Number: \"))\n",
    "    print(number)\n",
    "except ValueError:\n",
    "    print(\"Invalid input\")\n",
    "except ZeroDivisionError:\n",
    "    print(\"Division by zero\")"
   ]
  },
  {
   "cell_type": "markdown",
   "metadata": {},
   "source": [
    "## 23. READING FILES"
   ]
  },
  {
   "cell_type": "markdown",
   "metadata": {},
   "source": [
    "We can use a ***read command***\n",
    "We will start with a .txt file\n",
    "\n",
    "First, we ***open*** the file with the ***open command***"
   ]
  },
  {
   "cell_type": "code",
   "execution_count": 22,
   "metadata": {},
   "outputs": [
    {
     "data": {
      "text/plain": [
       "<_io.TextIOWrapper name='example 1.txt' mode='r' encoding='cp1252'>"
      ]
     },
     "execution_count": 22,
     "metadata": {},
     "output_type": "execute_result"
    }
   ],
   "source": [
    "open(\"example 1.txt\")"
   ]
  },
  {
   "cell_type": "code",
   "execution_count": 2,
   "metadata": {},
   "outputs": [],
   "source": [
    "# We can have different modes, rear, r, write, w, and a, append.\n",
    "example = open(\"example 1.txt\", \"r\")\n",
    "example.close()"
   ]
  },
  {
   "cell_type": "code",
   "execution_count": 28,
   "metadata": {},
   "outputs": [
    {
     "name": "stdout",
     "output_type": "stream",
     "text": [
      "True\n",
      "Jim - Salesman\n",
      "Dwight - Salesman\n",
      "{am - Receptionist\n",
      "Michael - Manager\n",
      "Oscar - Accountant\n"
     ]
    }
   ],
   "source": [
    "# We will store the value in a variable\n",
    "# We will also see if the file is readable\n",
    "open(\"example 1.txt\")\n",
    "employee_file=open(\"example 1.txt\", \"r\")\n",
    "print(employee_file.readable())\n",
    "print(employee_file.read())\n",
    "employee_file.close()"
   ]
  },
  {
   "cell_type": "code",
   "execution_count": 33,
   "metadata": {},
   "outputs": [
    {
     "name": "stdout",
     "output_type": "stream",
     "text": [
      "Jim - Salesman\n",
      "\n"
     ]
    }
   ],
   "source": [
    "open(\"example 1.txt\")\n",
    "employee_file=open(\"example 1.txt\", \"r\")\n",
    "#print(employee_file.readable())\n",
    "print(employee_file.readline())\n",
    "employee_file.close()"
   ]
  },
  {
   "cell_type": "code",
   "execution_count": 2,
   "metadata": {},
   "outputs": [
    {
     "name": "stdout",
     "output_type": "stream",
     "text": [
      "Jim - Salesman\n",
      "\n",
      "Dwight - Salesman\n",
      "\n"
     ]
    }
   ],
   "source": [
    "#If we repeat the readline method, we will read the following line\n",
    "\n",
    "employee_file=open(\"example 1.txt\", \"r\")\n",
    "print(employee_file.readline())\n",
    "print(employee_file.readline())\n",
    "employee_file.close()"
   ]
  },
  {
   "cell_type": "markdown",
   "metadata": {},
   "source": [
    "There is an alternative way for reading all lines"
   ]
  },
  {
   "cell_type": "code",
   "execution_count": 7,
   "metadata": {},
   "outputs": [
    {
     "name": "stdout",
     "output_type": "stream",
     "text": [
      "['Jim - Salesman\\n', 'Dwight - Salesman\\n', 'Sam - Receptionist\\n', 'Michael - Manager\\n', 'Oscar - Accountant']\n"
     ]
    }
   ],
   "source": [
    "employee_file=open(\"example 1.txt\", \"r\")\n",
    "print(employee_file.readlines())\n",
    "employee_file.close()"
   ]
  },
  {
   "cell_type": "markdown",
   "metadata": {},
   "source": [
    "employee_file=open(\"example 1.txt\", \"r\")\n",
    "for employee in employee_file.readlines():\n",
    "    print(employee)\n",
    "employee_file.close()"
   ]
  },
  {
   "cell_type": "markdown",
   "metadata": {},
   "source": [
    "### 24. WRITING TO FILES. APPENDING TO FILES"
   ]
  },
  {
   "cell_type": "code",
   "execution_count": 8,
   "metadata": {},
   "outputs": [
    {
     "name": "stdout",
     "output_type": "stream",
     "text": [
      "Jim - Salesman\n",
      "Dwight - Salesman\n",
      "Sam - Receptionist\n",
      "Michael - Manager\n",
      "Oscar - Accountant\n"
     ]
    }
   ],
   "source": [
    "employee_file=open(\"example 1.txt\", \"r\")\n",
    "print(employee_file.read())\n",
    "employee_file.close()"
   ]
  },
  {
   "cell_type": "markdown",
   "metadata": {},
   "source": [
    "Appending to the file, we will add some text"
   ]
  },
  {
   "cell_type": "code",
   "execution_count": 22,
   "metadata": {},
   "outputs": [],
   "source": [
    "# We will add the parameter \"a\" at the end of the open file, so that the file becomes modifyable.\n",
    "\n",
    "employee_file=open(\"example 1.txt\", \"a\")\n",
    "employee_file.write(\"Toby - Human Resources\\n\")\n",
    "employee_file.write(\"Martin - Legal\\n\")\n",
    "employee_file.close()"
   ]
  },
  {
   "cell_type": "code",
   "execution_count": 27,
   "metadata": {},
   "outputs": [],
   "source": [
    "# If we put the parameter \"w\", we will overwrite the file completely\n",
    "employee_file=open(\"example 2.txt\", \"w\")\n",
    "employee_file.write(\"Jim - Salesman\\nDwight - Salesman\\nSam - Receptionist\\nMichael - Manager\\nOscar - Accountant\")\n",
    "employee_file.close()"
   ]
  },
  {
   "cell_type": "markdown",
   "metadata": {},
   "source": [
    "## 25. MODULES"
   ]
  },
  {
   "cell_type": "markdown",
   "metadata": {},
   "source": [
    "We will create a **.py** file, which we will the import for further usage."
   ]
  },
  {
   "cell_type": "code",
   "execution_count": 1,
   "metadata": {},
   "outputs": [],
   "source": [
    "import random\n",
    "\n",
    "feet_in_mile = 5280\n",
    "meters_in_kilometer = 1000\n",
    "beatles = [\"John Lenon\", \"Ringo Star\", \"Paul McCartney\", \"George Harrison\"]\n",
    "\n",
    "def get_file_ext(filename):\n",
    "    return filename[filename.index(\".\")+1:]\n",
    "\n",
    "def roll_dice(num):\n",
    "    return random.randint(1,num)\n"
   ]
  },
  {
   "cell_type": "markdown",
   "metadata": {},
   "source": [
    "We will use *PyCharm* to write, edit and store this set of instructions. In this case will will use the **module_1** file. We could also use** a tex editor**, and in this case we will use "
   ]
  },
  {
   "cell_type": "code",
   "execution_count": 7,
   "metadata": {},
   "outputs": [],
   "source": [
    "import module_1\n",
    "import useful_tools"
   ]
  },
  {
   "cell_type": "code",
   "execution_count": 8,
   "metadata": {},
   "outputs": [
    {
     "data": {
      "text/plain": [
       "1"
      ]
     },
     "execution_count": 8,
     "metadata": {},
     "output_type": "execute_result"
    }
   ],
   "source": [
    "module_1.roll_dice(10)"
   ]
  },
  {
   "cell_type": "code",
   "execution_count": 9,
   "metadata": {},
   "outputs": [
    {
     "data": {
      "text/plain": [
       "3"
      ]
     },
     "execution_count": 9,
     "metadata": {},
     "output_type": "execute_result"
    }
   ],
   "source": [
    "useful_tools.roll_dice(10)"
   ]
  },
  {
   "cell_type": "code",
   "execution_count": 10,
   "metadata": {},
   "outputs": [
    {
     "name": "stdout",
     "output_type": "stream",
     "text": [
      "John Lenon\n",
      "Ringo Star\n",
      "Paul McCartney\n",
      "George Harrison\n"
     ]
    }
   ],
   "source": [
    "for name in useful_tools.beatles:\n",
    "    print(name)"
   ]
  },
  {
   "cell_type": "code",
   "execution_count": 11,
   "metadata": {},
   "outputs": [
    {
     "name": "stdout",
     "output_type": "stream",
     "text": [
      "Give a distance in meters: 100\n",
      "The equivalent distance is 0.1 kilometers\n"
     ]
    }
   ],
   "source": [
    "input(\"Give a distance in meters: \")\n",
    "\n",
    "distance = 100/useful_tools.meters_in_kilometer\n",
    "print(\"The equivalent distance is \" + str(distance) + \" kilometers\")"
   ]
  },
  {
   "cell_type": "markdown",
   "metadata": {},
   "source": [
    "## 26. PYTHON MODULE INDEX"
   ]
  },
  {
   "cell_type": "markdown",
   "metadata": {},
   "source": [
    "We can access a lot of modules built in Python. They can be consulted in https://docs.python.org/3/py-modindex.html#cap-n\n",
    "\n",
    "All the corresponding documentation can be found by clicking on the link of each one.\n",
    "\n",
    "The location of the modules are in the Python Folder\n",
    "\n"
   ]
  },
  {
   "attachments": {
    "image.png": {
     "image/png": "[encoded data removed]"
    }
   },
   "cell_type": "markdown",
   "metadata": {},
   "source": [
    "![image.png](attachment:image.png)\n"
   ]
  },
  {
   "cell_type": "markdown",
   "metadata": {},
   "source": [
    "We can install third party modules."
   ]
  },
  {
   "cell_type": "code",
   "execution_count": 1,
   "metadata": {},
   "outputs": [],
   "source": [
    "import numpy"
   ]
  },
  {
   "cell_type": "markdown",
   "metadata": {},
   "source": [
    "For example, if we import **numpy**, we see that the information on the location is as follows.\n",
    "\n",
    "\n",
    "Type: **module**\n",
    "\n",
    "\n",
    "String form: ***<module 'numpy' from 'D:\\\\Program Files\\\\Anaconda\\\\lib\\\\site-packages\\\\numpy\\\\__init__.py'>***\n",
    "\n",
    "\n",
    "File:        *d:\\program files\\anaconda\\lib\\site-packages\\numpy\\__init__.py*\n"
   ]
  },
  {
   "cell_type": "markdown",
   "metadata": {},
   "source": [
    "Installing an external library requires using a specific installer that is called from the command monitor of windows. This installer is known as ***pip***.  It is advisable to look for specific documentation for such purpose. They will be in the external library."
   ]
  },
  {
   "cell_type": "markdown",
   "metadata": {},
   "source": [
    "## 27. CLASSES AND OBJECTS"
   ]
  },
  {
   "cell_type": "markdown",
   "metadata": {},
   "source": [
    "We work with data.\n",
    "The information is represented by strings, numbers or Booleans.\n",
    "This is at the highest level of abstraction.\n",
    "\n",
    "Not everything can be represented by these abstractions.\n",
    "Classes and objects allow to create a data type.\n",
    "\n",
    "We can create a new data type.\n",
    "\n",
    "Let us assume that we can create a ***student data type***. We can use a series of attributes.\n",
    "\n"
   ]
  },
  {
   "cell_type": "code",
   "execution_count": 8,
   "metadata": {},
   "outputs": [],
   "source": [
    "class Student:\n",
    "    # we will initialize the characteristics of the class. We will define the attributes after the self \n",
    "    # This __init__  function will be the profile of the object. Surrounding init there are two sets of two underscores.\n",
    "    # Notice that the attributes can be variables or functions\n",
    "    # The class is the template.\n",
    "    def __init__(self, name, major, gpa, is_on_probation):\n",
    "        self.name=name\n",
    "        self.major=major\n",
    "        self.gpa=gpa\n",
    "        self.is_on_probation= is_on_probation\n",
    "        \n",
    "        "
   ]
  },
  {
   "cell_type": "markdown",
   "metadata": {},
   "source": [
    "Notice that we are creating a function that creates an object.\n",
    "\n",
    "This is an honest to God function. We will require the paramenters requiered for generating the structure.\n",
    "\n",
    "These structures are really powerful because we can model any object as a structure and the  work through or through them.\n",
    "\n",
    "The basic structures were also classes, the n objects. This is why we treat them as objects trhoughout the course."
   ]
  },
  {
   "cell_type": "code",
   "execution_count": 15,
   "metadata": {},
   "outputs": [],
   "source": [
    "# We create the object\n",
    "student1=Student(\"Jim\", \"Businesss\", 3.1, False)\n",
    "student2=Student(\"Pam\", \"Economics\", 3.4, True)"
   ]
  },
  {
   "cell_type": "code",
   "execution_count": 16,
   "metadata": {},
   "outputs": [
    {
     "name": "stdout",
     "output_type": "stream",
     "text": [
      "Jim\n",
      "3.1\n",
      "Pam\n",
      "3.4\n"
     ]
    }
   ],
   "source": [
    "print(student1.name)\n",
    "print(student1.gpa)\n",
    "print(student2.name)\n",
    "print(student2.gpa)"
   ]
  },
  {
   "cell_type": "markdown",
   "metadata": {},
   "source": [
    "## 28. MULTIPLE CHOICE QUESTIONAIRE : CLASSES AND LOOPS"
   ]
  },
  {
   "cell_type": "markdown",
   "metadata": {},
   "source": [
    "This is an exercise that shows how to use a class to interact with loops and other conditionals to be able to produce a questionaire."
   ]
  },
  {
   "cell_type": "code",
   "execution_count": 7,
   "metadata": {},
   "outputs": [],
   "source": [
    "# We define the object question\n",
    "class Question:\n",
    "    def __init__(self, prompt, answer):\n",
    "        self.prompt=prompt\n",
    "        self.answer=answer\n",
    "       \n",
    "question_prompts=[\n",
    "    \"What color are apples?\\n(a) Red/Green\\n(b) Purple\\n(c) Orange\\n\\n\",\n",
    "    \"What color are bananas?\\n(a) Teal\\n(b) Magenta\\n(c) Yellow\\n\\n\",\n",
    "    \"What color are strawberries?\\n(a) Yellow\\n(b) Red\\n(c) Blue\\n\\n\",\n",
    "]\n",
    "\n",
    "# We create a sequence of objects, each one with the respective attributes\n",
    "questions = [Question(question_prompts[0],\"a\"),\n",
    "             Question(question_prompts[1],\"c\"),\n",
    "             Question(question_prompts[2],\"b\"),            \n",
    "            ]\n",
    "\n",
    "# Now, we create a function that has a question list\n",
    "def run_test(questions):\n",
    "    score = 0\n",
    "    for question in questions:\n",
    "        answer = input(question.prompt)\n",
    "        if answer == question.answer:\n",
    "            score +=1\n",
    "    print(\"You got \" + str(score) + \"/\" + str(len(questions))+\" correct\")\n"
   ]
  },
  {
   "cell_type": "code",
   "execution_count": 8,
   "metadata": {},
   "outputs": [
    {
     "name": "stdout",
     "output_type": "stream",
     "text": [
      "What color are apples?\n",
      "(a) Red/Green\n",
      "(b) Purple\n",
      "(c) Orange\n",
      "\n",
      "a\n",
      "What color are bananas?\n",
      "(a) Teal\n",
      "(b) Magenta\n",
      "(c) Yellow\n",
      "\n",
      "b\n",
      "What color are strawberries?\n",
      "(a) Yellow\n",
      "(b) Red\n",
      "(c) Blue\n",
      "\n",
      "a\n",
      "You got 1/3 correct\n"
     ]
    }
   ],
   "source": [
    "run_test(questions)"
   ]
  },
  {
   "cell_type": "markdown",
   "metadata": {},
   "source": [
    "## 29. CLASS/OBJECT FUNCTIONS : METHODS"
   ]
  },
  {
   "cell_type": "markdown",
   "metadata": {},
   "source": [
    "We can create functions within classes.\n",
    "\n",
    "These functions can be applied to the specific objects\n",
    "\n",
    "So, we have a mechanism for assigning attributes and another for orking with the object."
   ]
  },
  {
   "cell_type": "code",
   "execution_count": 1,
   "metadata": {},
   "outputs": [],
   "source": [
    "class Student:\n",
    "    def __init__(self, name, major, gpa):\n",
    "        self.name=name\n",
    "        self.major=major\n",
    "        self.gpa=gpa\n",
    "        \n",
    "    def on_honor_rol(self):\n",
    "        if self.gpa >= 3.5:\n",
    "            return True\n",
    "        else:\n",
    "            return False\n",
    "        \n",
    "        "
   ]
  },
  {
   "cell_type": "code",
   "execution_count": 2,
   "metadata": {},
   "outputs": [],
   "source": [
    "student1= Student(\"Oscar\",\"Accounting\", 3.1)\n",
    "student2= Student(\"Phyllis\", \"Business\", 3.8)"
   ]
  },
  {
   "cell_type": "code",
   "execution_count": 3,
   "metadata": {},
   "outputs": [
    {
     "name": "stdout",
     "output_type": "stream",
     "text": [
      "False\n"
     ]
    }
   ],
   "source": [
    "print(student1.on_honor_rol())"
   ]
  },
  {
   "cell_type": "markdown",
   "metadata": {},
   "source": [
    "This is a powerful example on how methods work.\n",
    "\n",
    "The syntaxis is simple, and gives us a clear indication on what we are doing "
   ]
  },
  {
   "cell_type": "markdown",
   "metadata": {},
   "source": [
    "## 30. INHERITANCE"
   ]
  },
  {
   "cell_type": "code",
   "execution_count": 6,
   "metadata": {},
   "outputs": [],
   "source": [
    "# We can develop a class with only functions\n",
    "class Chef :\n",
    "    def make_chicken(self):\n",
    "        print(\"This cheff only cooks chicken\")\n",
    "        \n",
    "    def make_salad(self):\n",
    "        print(\"This cheff only cooks salad\") \n",
    "        \n",
    "    def make_nothing(self):\n",
    "        print(\"This cheff is incapable of cooking\")  "
   ]
  },
  {
   "cell_type": "code",
   "execution_count": 11,
   "metadata": {},
   "outputs": [],
   "source": [
    "MyChef = Chef()"
   ]
  },
  {
   "cell_type": "code",
   "execution_count": 12,
   "metadata": {},
   "outputs": [
    {
     "name": "stdout",
     "output_type": "stream",
     "text": [
      "This cheff only cooks chicken\n"
     ]
    }
   ],
   "source": [
    "MyChef.make_chicken()"
   ]
  },
  {
   "cell_type": "markdown",
   "metadata": {},
   "source": [
    "We can create a new class, which will have a different class of chef that will have similar characteristics."
   ]
  },
  {
   "cell_type": "code",
   "execution_count": 22,
   "metadata": {},
   "outputs": [],
   "source": [
    "# ORIGINAL CLASS\n",
    "class Chef :\n",
    "    def make_chicken(self):\n",
    "        print(\"This cheff only cooks chicken\")\n",
    "        \n",
    "    def make_salad(self):\n",
    "        print(\"This cheff only cooks salad\") \n",
    "        \n",
    "    def make_nothing(self):\n",
    "        print(\"This cheff is incapable of cooking\")  \n",
    "\n",
    "\n",
    "\n",
    "# NEW CLASS\n",
    "# We have to put in parenthesis the name of the original class\n",
    "\n",
    "class ChineseChef(Chef):\n",
    "    #SECTION OF ATTRIBUTES\n",
    "    #none\n",
    "    \n",
    "    #SECTION OF INHERITED METHODS\n",
    "    \n",
    "    \n",
    "    #SECTION OF NEW METHODS\n",
    "    def make_other_dish(self):\n",
    "        print(\"This Chef is capable of making something different\")\n",
    "    "
   ]
  },
  {
   "cell_type": "code",
   "execution_count": 23,
   "metadata": {},
   "outputs": [
    {
     "name": "stdout",
     "output_type": "stream",
     "text": [
      "This Chef is capable of making something different\n",
      "This cheff only cooks chicken\n"
     ]
    }
   ],
   "source": [
    "MyNewChef=ChineseChef()\n",
    "MyNewChef.make_other_dish()\n",
    "MyNewChef.make_chicken()"
   ]
  },
  {
   "cell_type": "code",
   "execution_count": 26,
   "metadata": {},
   "outputs": [],
   "source": [
    "# We can overwrite some of the methods if we want to\n",
    "\n",
    "# ORIGINAL CLASS\n",
    "class Chef :\n",
    "    def make_chicken(self):\n",
    "        print(\"This cheff only cooks chicken\")\n",
    "        \n",
    "    def make_salad(self):\n",
    "        print(\"This cheff only cooks salad\") \n",
    "        \n",
    "    def make_nothing(self):\n",
    "        print(\"This cheff is incapable of cooking\")  \n",
    "\n",
    "\n",
    "\n",
    "# NEW CLASS\n",
    "# We have to put in parenthesis the name of the original class\n",
    "\n",
    "class ChineseChef(Chef):\n",
    "    #SECTION OF ATTRIBUTES\n",
    "    #none\n",
    "    \n",
    "    #SECTION OF INHERITED METHODS\n",
    "    \n",
    "    \n",
    "    #SECTION OF NEW OR MODIFYIED METHODS\n",
    "    def make_other_dish(self):\n",
    "        print(\"This Chef is capable of making something different\") \n",
    "        \n",
    "    def make_salad(self):\n",
    "        print(\"This cheff only cooks chinese salad\")     \n",
    "    \n",
    "    "
   ]
  },
  {
   "cell_type": "code",
   "execution_count": 27,
   "metadata": {},
   "outputs": [
    {
     "name": "stdout",
     "output_type": "stream",
     "text": [
      "This Chef is capable of making something different\n",
      "This cheff only cooks chicken\n",
      "This cheff only cooks chinese salad\n"
     ]
    }
   ],
   "source": [
    "MyNewChef=ChineseChef()\n",
    "MyNewChef.make_other_dish()\n",
    "MyNewChef.make_chicken()\n",
    "MyNewChef.make_salad()"
   ]
  },
  {
   "cell_type": "code",
   "execution_count": null,
   "metadata": {},
   "outputs": [],
   "source": []
  }
 ],
 "metadata": {
  "kernelspec": {
   "display_name": "Python 3",
   "language": "python",
   "name": "python3"
  },
  "language_info": {
   "codemirror_mode": {
    "name": "ipython",
    "version": 3
   },
   "file_extension": ".py",
   "mimetype": "text/x-python",
   "name": "python",
   "nbconvert_exporter": "python",
   "pygments_lexer": "ipython3",
   "version": "3.6.4"
  }
 },
 "nbformat": 4,
 "nbformat_minor": 2
}
